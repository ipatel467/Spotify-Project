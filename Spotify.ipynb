{
 "cells": [
  {
   "cell_type": "code",
   "execution_count": null,
   "metadata": {},
   "outputs": [],
   "source": []
  },
  {
   "cell_type": "code",
   "execution_count": 1,
   "metadata": {},
   "outputs": [],
   "source": [
    "# Import Needed Libraries \n",
    "import numpy as np\n",
    "import pandas as pd\n",
    "import matplotlib.pyplot as plt\n",
    "import seaborn as sns\n",
    "from sklearn.model_selection import GridSearchCV\n",
    "from sklearn.model_selection import train_test_split\n",
    "from sklearn import metrics\n",
    "from sklearn.preprocessing import StandardScaler\n",
    "from sklearn.model_selection import cross_val_score\n",
    "from sklearn.linear_model import LogisticRegression\n",
    "from sklearn.ensemble import RandomForestRegressor\n",
    "from sklearn.ensemble import GradientBoostingRegressor\n",
    "from sklearn.ensemble import AdaBoostRegressor\n",
    "from sklearn.metrics import r2_score\n",
    "from sklearn.metrics import mean_squared_error\n",
    "import xgboost\n",
    "from sklearn.feature_selection import RFE\n",
    "from sklearn.linear_model import RidgeCV, LassoCV, Ridge, Lasso\n",
    "import matplotlib.pyplot as plt\n",
    "import seaborn as sns"
   ]
  },
  {
   "cell_type": "code",
   "execution_count": 2,
   "metadata": {},
   "outputs": [],
   "source": [
    "import spotipy\n",
    "from spotipy.oauth2 import SpotifyClientCredentials\n",
    "cid = 'f6f537de83784ff598bbf6f8d7bc5237'\n",
    "secret = 'cf96af9e5ccd42399f8a11f58c7a873b'\n",
    "client_credentials_manager = SpotifyClientCredentials(client_id=cid, client_secret=secret)\n",
    "sp = spotipy.Spotify(client_credentials_manager=client_credentials_manager)"
   ]
  },
  {
   "cell_type": "code",
   "execution_count": 3,
   "metadata": {},
   "outputs": [],
   "source": [
    "artist_name = []\n",
    "track_name = []\n",
    "popularity = []\n",
    "track_id = []\n",
    "duration_ms = []\n",
    "key = []\n",
    "time_signature = []\n",
    "acousticness = []\n",
    "danceability = []\n",
    "energy = []\n",
    "instrumentalness = []\n",
    "liveness = []\n",
    "loudness = []\n",
    "speechiness = []\n",
    "valence = []\n",
    "tempo = []\n",
    "\n",
    "      "
   ]
  },
  {
   "cell_type": "code",
   "execution_count": 4,
   "metadata": {},
   "outputs": [
    {
     "name": "stdout",
     "output_type": "stream",
     "text": [
      "Time to run this code (in seconds): 6.3132654839999995\n"
     ]
    }
   ],
   "source": [
    "import timeit\n",
    "start = timeit.default_timer()\n",
    "\n",
    "# create empty lists where the results are going to be stored\n",
    "artist_name = []\n",
    "track_name = []\n",
    "popularity = []\n",
    "track_id = []\n",
    "\n",
    "for i in range(0,1000,50):\n",
    "    track_results = sp.search(q='year:2020', type='track', limit=50,offset=i)\n",
    "    for i, t in enumerate(track_results['tracks']['items']):\n",
    "        artist_name.append(t['artists'][0]['name'])\n",
    "        track_name.append(t['name'])\n",
    "        track_id.append(t['id'])\n",
    "        popularity.append(t['popularity'])\n",
    "stop = timeit.default_timer()\n",
    "print ('Time to run this code (in seconds):', stop - start)"
   ]
  },
  {
   "cell_type": "code",
   "execution_count": 5,
   "metadata": {},
   "outputs": [
    {
     "name": "stdout",
     "output_type": "stream",
     "text": [
      "(1000, 4)\n"
     ]
    },
    {
     "data": {
      "text/html": [
       "<div>\n",
       "<style scoped>\n",
       "    .dataframe tbody tr th:only-of-type {\n",
       "        vertical-align: middle;\n",
       "    }\n",
       "\n",
       "    .dataframe tbody tr th {\n",
       "        vertical-align: top;\n",
       "    }\n",
       "\n",
       "    .dataframe thead th {\n",
       "        text-align: right;\n",
       "    }\n",
       "</style>\n",
       "<table border=\"1\" class=\"dataframe\">\n",
       "  <thead>\n",
       "    <tr style=\"text-align: right;\">\n",
       "      <th></th>\n",
       "      <th>artist_name</th>\n",
       "      <th>track_name</th>\n",
       "      <th>track_id</th>\n",
       "      <th>popularity</th>\n",
       "    </tr>\n",
       "  </thead>\n",
       "  <tbody>\n",
       "    <tr>\n",
       "      <th>0</th>\n",
       "      <td>24kGoldn</td>\n",
       "      <td>Mood (feat. iann dior)</td>\n",
       "      <td>3tjFYV6RSFtuktYl3ZtYcq</td>\n",
       "      <td>100</td>\n",
       "    </tr>\n",
       "    <tr>\n",
       "      <th>1</th>\n",
       "      <td>Cardi B</td>\n",
       "      <td>WAP (feat. Megan Thee Stallion)</td>\n",
       "      <td>4Oun2ylbjFKMPTiaSbbCih</td>\n",
       "      <td>97</td>\n",
       "    </tr>\n",
       "    <tr>\n",
       "      <th>2</th>\n",
       "      <td>Pop Smoke</td>\n",
       "      <td>For The Night (feat. Lil Baby &amp; DaBaby)</td>\n",
       "      <td>0PvFJmanyNQMseIFrU708S</td>\n",
       "      <td>95</td>\n",
       "    </tr>\n",
       "    <tr>\n",
       "      <th>3</th>\n",
       "      <td>Drake</td>\n",
       "      <td>Laugh Now Cry Later (feat. Lil Durk)</td>\n",
       "      <td>2SAqBLGA283SUiwJ3xOUVI</td>\n",
       "      <td>94</td>\n",
       "    </tr>\n",
       "    <tr>\n",
       "      <th>4</th>\n",
       "      <td>Pop Smoke</td>\n",
       "      <td>What You Know Bout Love</td>\n",
       "      <td>1tkg4EHVoqnhR6iFEXb60y</td>\n",
       "      <td>96</td>\n",
       "    </tr>\n",
       "  </tbody>\n",
       "</table>\n",
       "</div>"
      ],
      "text/plain": [
       "  artist_name                               track_name  \\\n",
       "0    24kGoldn                   Mood (feat. iann dior)   \n",
       "1     Cardi B          WAP (feat. Megan Thee Stallion)   \n",
       "2   Pop Smoke  For The Night (feat. Lil Baby & DaBaby)   \n",
       "3       Drake     Laugh Now Cry Later (feat. Lil Durk)   \n",
       "4   Pop Smoke                  What You Know Bout Love   \n",
       "\n",
       "                 track_id  popularity  \n",
       "0  3tjFYV6RSFtuktYl3ZtYcq         100  \n",
       "1  4Oun2ylbjFKMPTiaSbbCih          97  \n",
       "2  0PvFJmanyNQMseIFrU708S          95  \n",
       "3  2SAqBLGA283SUiwJ3xOUVI          94  \n",
       "4  1tkg4EHVoqnhR6iFEXb60y          96  "
      ]
     },
     "execution_count": 5,
     "metadata": {},
     "output_type": "execute_result"
    }
   ],
   "source": [
    "import pandas as pd\n",
    "\n",
    "df_tracks = pd.DataFrame({'artist_name':artist_name,'track_name':track_name,'track_id':track_id,'popularity':popularity})\n",
    "print(df_tracks.shape)\n",
    "df_tracks.head()"
   ]
  },
  {
   "cell_type": "code",
   "execution_count": 6,
   "metadata": {},
   "outputs": [
    {
     "name": "stdout",
     "output_type": "stream",
     "text": [
      "Number of tracks where no audio features were available: 0\n",
      "Time to run this code (in seconds): 2.281090002999999\n"
     ]
    }
   ],
   "source": [
    "start = timeit.default_timer()\n",
    "\n",
    "# empty list, batchsize and the counter for None results\n",
    "rows = []\n",
    "batchsize = 100\n",
    "None_counter = 0\n",
    "\n",
    "for i in range(0,len(df_tracks['track_id']),batchsize):\n",
    "    batch = df_tracks['track_id'][i:i+batchsize]\n",
    "    feature_results = sp.audio_features(batch)\n",
    "    for i, t in enumerate(feature_results):\n",
    "        if t == None:\n",
    "            None_counter = None_counter + 1\n",
    "        else:\n",
    "            rows.append(t)\n",
    "            \n",
    "print('Number of tracks where no audio features were available:',None_counter)\n",
    "\n",
    "stop = timeit.default_timer()\n",
    "print ('Time to run this code (in seconds):',stop - start)"
   ]
  },
  {
   "cell_type": "code",
   "execution_count": 7,
   "metadata": {},
   "outputs": [
    {
     "name": "stdout",
     "output_type": "stream",
     "text": [
      "Shape of the dataset: (1000, 18)\n"
     ]
    },
    {
     "data": {
      "text/html": [
       "<div>\n",
       "<style scoped>\n",
       "    .dataframe tbody tr th:only-of-type {\n",
       "        vertical-align: middle;\n",
       "    }\n",
       "\n",
       "    .dataframe tbody tr th {\n",
       "        vertical-align: top;\n",
       "    }\n",
       "\n",
       "    .dataframe thead th {\n",
       "        text-align: right;\n",
       "    }\n",
       "</style>\n",
       "<table border=\"1\" class=\"dataframe\">\n",
       "  <thead>\n",
       "    <tr style=\"text-align: right;\">\n",
       "      <th></th>\n",
       "      <th>acousticness</th>\n",
       "      <th>analysis_url</th>\n",
       "      <th>danceability</th>\n",
       "      <th>duration_ms</th>\n",
       "      <th>energy</th>\n",
       "      <th>id</th>\n",
       "      <th>instrumentalness</th>\n",
       "      <th>key</th>\n",
       "      <th>liveness</th>\n",
       "      <th>loudness</th>\n",
       "      <th>mode</th>\n",
       "      <th>speechiness</th>\n",
       "      <th>tempo</th>\n",
       "      <th>time_signature</th>\n",
       "      <th>track_href</th>\n",
       "      <th>type</th>\n",
       "      <th>uri</th>\n",
       "      <th>valence</th>\n",
       "    </tr>\n",
       "  </thead>\n",
       "  <tbody>\n",
       "    <tr>\n",
       "      <th>0</th>\n",
       "      <td>0.2210</td>\n",
       "      <td>https://api.spotify.com/v1/audio-analysis/3tjF...</td>\n",
       "      <td>0.700</td>\n",
       "      <td>140526</td>\n",
       "      <td>0.722</td>\n",
       "      <td>3tjFYV6RSFtuktYl3ZtYcq</td>\n",
       "      <td>0.000000</td>\n",
       "      <td>7</td>\n",
       "      <td>0.2720</td>\n",
       "      <td>-3.558</td>\n",
       "      <td>0</td>\n",
       "      <td>0.0369</td>\n",
       "      <td>90.989</td>\n",
       "      <td>4</td>\n",
       "      <td>https://api.spotify.com/v1/tracks/3tjFYV6RSFtu...</td>\n",
       "      <td>audio_features</td>\n",
       "      <td>spotify:track:3tjFYV6RSFtuktYl3ZtYcq</td>\n",
       "      <td>0.756</td>\n",
       "    </tr>\n",
       "    <tr>\n",
       "      <th>1</th>\n",
       "      <td>0.0194</td>\n",
       "      <td>https://api.spotify.com/v1/audio-analysis/4Oun...</td>\n",
       "      <td>0.935</td>\n",
       "      <td>187541</td>\n",
       "      <td>0.454</td>\n",
       "      <td>4Oun2ylbjFKMPTiaSbbCih</td>\n",
       "      <td>0.000000</td>\n",
       "      <td>1</td>\n",
       "      <td>0.0824</td>\n",
       "      <td>-7.509</td>\n",
       "      <td>1</td>\n",
       "      <td>0.3750</td>\n",
       "      <td>133.073</td>\n",
       "      <td>4</td>\n",
       "      <td>https://api.spotify.com/v1/tracks/4Oun2ylbjFKM...</td>\n",
       "      <td>audio_features</td>\n",
       "      <td>spotify:track:4Oun2ylbjFKMPTiaSbbCih</td>\n",
       "      <td>0.357</td>\n",
       "    </tr>\n",
       "    <tr>\n",
       "      <th>2</th>\n",
       "      <td>0.1140</td>\n",
       "      <td>https://api.spotify.com/v1/audio-analysis/0PvF...</td>\n",
       "      <td>0.823</td>\n",
       "      <td>190476</td>\n",
       "      <td>0.586</td>\n",
       "      <td>0PvFJmanyNQMseIFrU708S</td>\n",
       "      <td>0.000000</td>\n",
       "      <td>6</td>\n",
       "      <td>0.1930</td>\n",
       "      <td>-6.606</td>\n",
       "      <td>0</td>\n",
       "      <td>0.2000</td>\n",
       "      <td>125.971</td>\n",
       "      <td>4</td>\n",
       "      <td>https://api.spotify.com/v1/tracks/0PvFJmanyNQM...</td>\n",
       "      <td>audio_features</td>\n",
       "      <td>spotify:track:0PvFJmanyNQMseIFrU708S</td>\n",
       "      <td>0.347</td>\n",
       "    </tr>\n",
       "    <tr>\n",
       "      <th>3</th>\n",
       "      <td>0.2440</td>\n",
       "      <td>https://api.spotify.com/v1/audio-analysis/2SAq...</td>\n",
       "      <td>0.761</td>\n",
       "      <td>261493</td>\n",
       "      <td>0.518</td>\n",
       "      <td>2SAqBLGA283SUiwJ3xOUVI</td>\n",
       "      <td>0.000035</td>\n",
       "      <td>0</td>\n",
       "      <td>0.1070</td>\n",
       "      <td>-8.871</td>\n",
       "      <td>1</td>\n",
       "      <td>0.1340</td>\n",
       "      <td>133.976</td>\n",
       "      <td>4</td>\n",
       "      <td>https://api.spotify.com/v1/tracks/2SAqBLGA283S...</td>\n",
       "      <td>audio_features</td>\n",
       "      <td>spotify:track:2SAqBLGA283SUiwJ3xOUVI</td>\n",
       "      <td>0.522</td>\n",
       "    </tr>\n",
       "    <tr>\n",
       "      <th>4</th>\n",
       "      <td>0.6500</td>\n",
       "      <td>https://api.spotify.com/v1/audio-analysis/1tkg...</td>\n",
       "      <td>0.709</td>\n",
       "      <td>160000</td>\n",
       "      <td>0.548</td>\n",
       "      <td>1tkg4EHVoqnhR6iFEXb60y</td>\n",
       "      <td>0.000002</td>\n",
       "      <td>10</td>\n",
       "      <td>0.1330</td>\n",
       "      <td>-8.493</td>\n",
       "      <td>1</td>\n",
       "      <td>0.3530</td>\n",
       "      <td>83.995</td>\n",
       "      <td>4</td>\n",
       "      <td>https://api.spotify.com/v1/tracks/1tkg4EHVoqnh...</td>\n",
       "      <td>audio_features</td>\n",
       "      <td>spotify:track:1tkg4EHVoqnhR6iFEXb60y</td>\n",
       "      <td>0.543</td>\n",
       "    </tr>\n",
       "  </tbody>\n",
       "</table>\n",
       "</div>"
      ],
      "text/plain": [
       "   acousticness                                       analysis_url  \\\n",
       "0        0.2210  https://api.spotify.com/v1/audio-analysis/3tjF...   \n",
       "1        0.0194  https://api.spotify.com/v1/audio-analysis/4Oun...   \n",
       "2        0.1140  https://api.spotify.com/v1/audio-analysis/0PvF...   \n",
       "3        0.2440  https://api.spotify.com/v1/audio-analysis/2SAq...   \n",
       "4        0.6500  https://api.spotify.com/v1/audio-analysis/1tkg...   \n",
       "\n",
       "   danceability  duration_ms  energy                      id  \\\n",
       "0         0.700       140526   0.722  3tjFYV6RSFtuktYl3ZtYcq   \n",
       "1         0.935       187541   0.454  4Oun2ylbjFKMPTiaSbbCih   \n",
       "2         0.823       190476   0.586  0PvFJmanyNQMseIFrU708S   \n",
       "3         0.761       261493   0.518  2SAqBLGA283SUiwJ3xOUVI   \n",
       "4         0.709       160000   0.548  1tkg4EHVoqnhR6iFEXb60y   \n",
       "\n",
       "   instrumentalness  key  liveness  loudness  mode  speechiness    tempo  \\\n",
       "0          0.000000    7    0.2720    -3.558     0       0.0369   90.989   \n",
       "1          0.000000    1    0.0824    -7.509     1       0.3750  133.073   \n",
       "2          0.000000    6    0.1930    -6.606     0       0.2000  125.971   \n",
       "3          0.000035    0    0.1070    -8.871     1       0.1340  133.976   \n",
       "4          0.000002   10    0.1330    -8.493     1       0.3530   83.995   \n",
       "\n",
       "   time_signature                                         track_href  \\\n",
       "0               4  https://api.spotify.com/v1/tracks/3tjFYV6RSFtu...   \n",
       "1               4  https://api.spotify.com/v1/tracks/4Oun2ylbjFKM...   \n",
       "2               4  https://api.spotify.com/v1/tracks/0PvFJmanyNQM...   \n",
       "3               4  https://api.spotify.com/v1/tracks/2SAqBLGA283S...   \n",
       "4               4  https://api.spotify.com/v1/tracks/1tkg4EHVoqnh...   \n",
       "\n",
       "             type                                   uri  valence  \n",
       "0  audio_features  spotify:track:3tjFYV6RSFtuktYl3ZtYcq    0.756  \n",
       "1  audio_features  spotify:track:4Oun2ylbjFKMPTiaSbbCih    0.357  \n",
       "2  audio_features  spotify:track:0PvFJmanyNQMseIFrU708S    0.347  \n",
       "3  audio_features  spotify:track:2SAqBLGA283SUiwJ3xOUVI    0.522  \n",
       "4  audio_features  spotify:track:1tkg4EHVoqnhR6iFEXb60y    0.543  "
      ]
     },
     "execution_count": 7,
     "metadata": {},
     "output_type": "execute_result"
    }
   ],
   "source": [
    "df_audio_features = pd.DataFrame.from_dict(rows,orient='columns')\n",
    "print(\"Shape of the dataset:\", df_audio_features.shape)\n",
    "df_audio_features.head()"
   ]
  },
  {
   "cell_type": "code",
   "execution_count": 8,
   "metadata": {},
   "outputs": [],
   "source": [
    "full_df = df_tracks.join(df_audio_features)"
   ]
  },
  {
   "cell_type": "code",
   "execution_count": 9,
   "metadata": {},
   "outputs": [
    {
     "data": {
      "text/html": [
       "<div>\n",
       "<style scoped>\n",
       "    .dataframe tbody tr th:only-of-type {\n",
       "        vertical-align: middle;\n",
       "    }\n",
       "\n",
       "    .dataframe tbody tr th {\n",
       "        vertical-align: top;\n",
       "    }\n",
       "\n",
       "    .dataframe thead th {\n",
       "        text-align: right;\n",
       "    }\n",
       "</style>\n",
       "<table border=\"1\" class=\"dataframe\">\n",
       "  <thead>\n",
       "    <tr style=\"text-align: right;\">\n",
       "      <th></th>\n",
       "      <th>artist_name</th>\n",
       "      <th>track_name</th>\n",
       "      <th>track_id</th>\n",
       "      <th>popularity</th>\n",
       "      <th>acousticness</th>\n",
       "      <th>analysis_url</th>\n",
       "      <th>danceability</th>\n",
       "      <th>duration_ms</th>\n",
       "      <th>energy</th>\n",
       "      <th>id</th>\n",
       "      <th>...</th>\n",
       "      <th>liveness</th>\n",
       "      <th>loudness</th>\n",
       "      <th>mode</th>\n",
       "      <th>speechiness</th>\n",
       "      <th>tempo</th>\n",
       "      <th>time_signature</th>\n",
       "      <th>track_href</th>\n",
       "      <th>type</th>\n",
       "      <th>uri</th>\n",
       "      <th>valence</th>\n",
       "    </tr>\n",
       "  </thead>\n",
       "  <tbody>\n",
       "    <tr>\n",
       "      <th>0</th>\n",
       "      <td>24kGoldn</td>\n",
       "      <td>Mood (feat. iann dior)</td>\n",
       "      <td>3tjFYV6RSFtuktYl3ZtYcq</td>\n",
       "      <td>100</td>\n",
       "      <td>0.2210</td>\n",
       "      <td>https://api.spotify.com/v1/audio-analysis/3tjF...</td>\n",
       "      <td>0.700</td>\n",
       "      <td>140526</td>\n",
       "      <td>0.722</td>\n",
       "      <td>3tjFYV6RSFtuktYl3ZtYcq</td>\n",
       "      <td>...</td>\n",
       "      <td>0.2720</td>\n",
       "      <td>-3.558</td>\n",
       "      <td>0</td>\n",
       "      <td>0.0369</td>\n",
       "      <td>90.989</td>\n",
       "      <td>4</td>\n",
       "      <td>https://api.spotify.com/v1/tracks/3tjFYV6RSFtu...</td>\n",
       "      <td>audio_features</td>\n",
       "      <td>spotify:track:3tjFYV6RSFtuktYl3ZtYcq</td>\n",
       "      <td>0.756</td>\n",
       "    </tr>\n",
       "    <tr>\n",
       "      <th>1</th>\n",
       "      <td>Cardi B</td>\n",
       "      <td>WAP (feat. Megan Thee Stallion)</td>\n",
       "      <td>4Oun2ylbjFKMPTiaSbbCih</td>\n",
       "      <td>97</td>\n",
       "      <td>0.0194</td>\n",
       "      <td>https://api.spotify.com/v1/audio-analysis/4Oun...</td>\n",
       "      <td>0.935</td>\n",
       "      <td>187541</td>\n",
       "      <td>0.454</td>\n",
       "      <td>4Oun2ylbjFKMPTiaSbbCih</td>\n",
       "      <td>...</td>\n",
       "      <td>0.0824</td>\n",
       "      <td>-7.509</td>\n",
       "      <td>1</td>\n",
       "      <td>0.3750</td>\n",
       "      <td>133.073</td>\n",
       "      <td>4</td>\n",
       "      <td>https://api.spotify.com/v1/tracks/4Oun2ylbjFKM...</td>\n",
       "      <td>audio_features</td>\n",
       "      <td>spotify:track:4Oun2ylbjFKMPTiaSbbCih</td>\n",
       "      <td>0.357</td>\n",
       "    </tr>\n",
       "    <tr>\n",
       "      <th>2</th>\n",
       "      <td>Pop Smoke</td>\n",
       "      <td>For The Night (feat. Lil Baby &amp; DaBaby)</td>\n",
       "      <td>0PvFJmanyNQMseIFrU708S</td>\n",
       "      <td>95</td>\n",
       "      <td>0.1140</td>\n",
       "      <td>https://api.spotify.com/v1/audio-analysis/0PvF...</td>\n",
       "      <td>0.823</td>\n",
       "      <td>190476</td>\n",
       "      <td>0.586</td>\n",
       "      <td>0PvFJmanyNQMseIFrU708S</td>\n",
       "      <td>...</td>\n",
       "      <td>0.1930</td>\n",
       "      <td>-6.606</td>\n",
       "      <td>0</td>\n",
       "      <td>0.2000</td>\n",
       "      <td>125.971</td>\n",
       "      <td>4</td>\n",
       "      <td>https://api.spotify.com/v1/tracks/0PvFJmanyNQM...</td>\n",
       "      <td>audio_features</td>\n",
       "      <td>spotify:track:0PvFJmanyNQMseIFrU708S</td>\n",
       "      <td>0.347</td>\n",
       "    </tr>\n",
       "    <tr>\n",
       "      <th>3</th>\n",
       "      <td>Drake</td>\n",
       "      <td>Laugh Now Cry Later (feat. Lil Durk)</td>\n",
       "      <td>2SAqBLGA283SUiwJ3xOUVI</td>\n",
       "      <td>94</td>\n",
       "      <td>0.2440</td>\n",
       "      <td>https://api.spotify.com/v1/audio-analysis/2SAq...</td>\n",
       "      <td>0.761</td>\n",
       "      <td>261493</td>\n",
       "      <td>0.518</td>\n",
       "      <td>2SAqBLGA283SUiwJ3xOUVI</td>\n",
       "      <td>...</td>\n",
       "      <td>0.1070</td>\n",
       "      <td>-8.871</td>\n",
       "      <td>1</td>\n",
       "      <td>0.1340</td>\n",
       "      <td>133.976</td>\n",
       "      <td>4</td>\n",
       "      <td>https://api.spotify.com/v1/tracks/2SAqBLGA283S...</td>\n",
       "      <td>audio_features</td>\n",
       "      <td>spotify:track:2SAqBLGA283SUiwJ3xOUVI</td>\n",
       "      <td>0.522</td>\n",
       "    </tr>\n",
       "    <tr>\n",
       "      <th>4</th>\n",
       "      <td>Pop Smoke</td>\n",
       "      <td>What You Know Bout Love</td>\n",
       "      <td>1tkg4EHVoqnhR6iFEXb60y</td>\n",
       "      <td>96</td>\n",
       "      <td>0.6500</td>\n",
       "      <td>https://api.spotify.com/v1/audio-analysis/1tkg...</td>\n",
       "      <td>0.709</td>\n",
       "      <td>160000</td>\n",
       "      <td>0.548</td>\n",
       "      <td>1tkg4EHVoqnhR6iFEXb60y</td>\n",
       "      <td>...</td>\n",
       "      <td>0.1330</td>\n",
       "      <td>-8.493</td>\n",
       "      <td>1</td>\n",
       "      <td>0.3530</td>\n",
       "      <td>83.995</td>\n",
       "      <td>4</td>\n",
       "      <td>https://api.spotify.com/v1/tracks/1tkg4EHVoqnh...</td>\n",
       "      <td>audio_features</td>\n",
       "      <td>spotify:track:1tkg4EHVoqnhR6iFEXb60y</td>\n",
       "      <td>0.543</td>\n",
       "    </tr>\n",
       "  </tbody>\n",
       "</table>\n",
       "<p>5 rows × 22 columns</p>\n",
       "</div>"
      ],
      "text/plain": [
       "  artist_name                               track_name  \\\n",
       "0    24kGoldn                   Mood (feat. iann dior)   \n",
       "1     Cardi B          WAP (feat. Megan Thee Stallion)   \n",
       "2   Pop Smoke  For The Night (feat. Lil Baby & DaBaby)   \n",
       "3       Drake     Laugh Now Cry Later (feat. Lil Durk)   \n",
       "4   Pop Smoke                  What You Know Bout Love   \n",
       "\n",
       "                 track_id  popularity  acousticness  \\\n",
       "0  3tjFYV6RSFtuktYl3ZtYcq         100        0.2210   \n",
       "1  4Oun2ylbjFKMPTiaSbbCih          97        0.0194   \n",
       "2  0PvFJmanyNQMseIFrU708S          95        0.1140   \n",
       "3  2SAqBLGA283SUiwJ3xOUVI          94        0.2440   \n",
       "4  1tkg4EHVoqnhR6iFEXb60y          96        0.6500   \n",
       "\n",
       "                                        analysis_url  danceability  \\\n",
       "0  https://api.spotify.com/v1/audio-analysis/3tjF...         0.700   \n",
       "1  https://api.spotify.com/v1/audio-analysis/4Oun...         0.935   \n",
       "2  https://api.spotify.com/v1/audio-analysis/0PvF...         0.823   \n",
       "3  https://api.spotify.com/v1/audio-analysis/2SAq...         0.761   \n",
       "4  https://api.spotify.com/v1/audio-analysis/1tkg...         0.709   \n",
       "\n",
       "   duration_ms  energy                      id  ...  liveness  loudness  mode  \\\n",
       "0       140526   0.722  3tjFYV6RSFtuktYl3ZtYcq  ...    0.2720    -3.558     0   \n",
       "1       187541   0.454  4Oun2ylbjFKMPTiaSbbCih  ...    0.0824    -7.509     1   \n",
       "2       190476   0.586  0PvFJmanyNQMseIFrU708S  ...    0.1930    -6.606     0   \n",
       "3       261493   0.518  2SAqBLGA283SUiwJ3xOUVI  ...    0.1070    -8.871     1   \n",
       "4       160000   0.548  1tkg4EHVoqnhR6iFEXb60y  ...    0.1330    -8.493     1   \n",
       "\n",
       "   speechiness    tempo  time_signature  \\\n",
       "0       0.0369   90.989               4   \n",
       "1       0.3750  133.073               4   \n",
       "2       0.2000  125.971               4   \n",
       "3       0.1340  133.976               4   \n",
       "4       0.3530   83.995               4   \n",
       "\n",
       "                                          track_href            type  \\\n",
       "0  https://api.spotify.com/v1/tracks/3tjFYV6RSFtu...  audio_features   \n",
       "1  https://api.spotify.com/v1/tracks/4Oun2ylbjFKM...  audio_features   \n",
       "2  https://api.spotify.com/v1/tracks/0PvFJmanyNQM...  audio_features   \n",
       "3  https://api.spotify.com/v1/tracks/2SAqBLGA283S...  audio_features   \n",
       "4  https://api.spotify.com/v1/tracks/1tkg4EHVoqnh...  audio_features   \n",
       "\n",
       "                                    uri valence  \n",
       "0  spotify:track:3tjFYV6RSFtuktYl3ZtYcq   0.756  \n",
       "1  spotify:track:4Oun2ylbjFKMPTiaSbbCih   0.357  \n",
       "2  spotify:track:0PvFJmanyNQMseIFrU708S   0.347  \n",
       "3  spotify:track:2SAqBLGA283SUiwJ3xOUVI   0.522  \n",
       "4  spotify:track:1tkg4EHVoqnhR6iFEXb60y   0.543  \n",
       "\n",
       "[5 rows x 22 columns]"
      ]
     },
     "execution_count": 9,
     "metadata": {},
     "output_type": "execute_result"
    }
   ],
   "source": [
    "full_df.head()"
   ]
  },
  {
   "cell_type": "code",
   "execution_count": 10,
   "metadata": {},
   "outputs": [
    {
     "data": {
      "text/plain": [
       "<matplotlib.axes._subplots.AxesSubplot at 0x131810860>"
      ]
     },
     "execution_count": 10,
     "metadata": {},
     "output_type": "execute_result"
    },
    {
     "data": {
      "image/png": "[encoded data removed]",
      "text/plain": [
       "<Figure size 432x288 with 1 Axes>"
      ]
     },
     "metadata": {
      "needs_background": "light"
     },
     "output_type": "display_data"
    }
   ],
   "source": [
    "full_df['valence'].hist()"
   ]
  },
  {
   "cell_type": "code",
   "execution_count": 11,
   "metadata": {},
   "outputs": [],
   "source": [
    "full_df = full_df.drop(['analysis_url','track_href','uri','id'],axis=1)"
   ]
  },
  {
   "cell_type": "code",
   "execution_count": 12,
   "metadata": {},
   "outputs": [
    {
     "data": {
      "text/plain": [
       "1     137\n",
       "6     120\n",
       "5      99\n",
       "11     94\n",
       "7      90\n",
       "0      88\n",
       "8      79\n",
       "10     74\n",
       "9      71\n",
       "4      70\n",
       "2      60\n",
       "3      18\n",
       "Name: key, dtype: int64"
      ]
     },
     "execution_count": 12,
     "metadata": {},
     "output_type": "execute_result"
    }
   ],
   "source": [
    "full_df['key'].value_counts()"
   ]
  },
  {
   "cell_type": "code",
   "execution_count": 13,
   "metadata": {},
   "outputs": [],
   "source": [
    "full_df['feature_artist/songname'] = full_df['track_name']"
   ]
  },
  {
   "cell_type": "code",
   "execution_count": 14,
   "metadata": {},
   "outputs": [],
   "source": [
    "time_pop = full_df.groupby(['time_signature']).agg({'popularity':'mean'}).reset_index()"
   ]
  },
  {
   "cell_type": "code",
   "execution_count": 15,
   "metadata": {},
   "outputs": [
    {
     "data": {
      "image/png": "[encoded data removed]",
      "text/plain": [
       "<Figure size 432x288 with 1 Axes>"
      ]
     },
     "metadata": {
      "needs_background": "light"
     },
     "output_type": "display_data"
    }
   ],
   "source": [
    "sns.barplot(x=time_pop['time_signature'],y=time_pop['popularity']);\n",
    "plt.title('Average Popularity by Time Signature');"
   ]
  },
  {
   "cell_type": "code",
   "execution_count": 16,
   "metadata": {},
   "outputs": [],
   "source": [
    "time_pop_sum = full_df.groupby(['time_signature']).agg({'popularity':'sum'}).reset_index()"
   ]
  },
  {
   "cell_type": "code",
   "execution_count": 17,
   "metadata": {},
   "outputs": [
    {
     "data": {
      "image/png": "[encoded data removed]",
      "text/plain": [
       "<Figure size 432x288 with 1 Axes>"
      ]
     },
     "metadata": {
      "needs_background": "light"
     },
     "output_type": "display_data"
    }
   ],
   "source": [
    "sns.barplot(x=time_pop_sum['time_signature'],y=time_pop_sum['popularity']);\n",
    "plt.title('Popularity Sum by Time Signature');"
   ]
  },
  {
   "cell_type": "code",
   "execution_count": 18,
   "metadata": {},
   "outputs": [
    {
     "data": {
      "image/png": "[encoded data removed]",
      "text/plain": [
       "<Figure size 432x288 with 1 Axes>"
      ]
     },
     "metadata": {
      "needs_background": "light"
     },
     "output_type": "display_data"
    }
   ],
   "source": [
    "full_df['acousticness'].hist()\n",
    "plt.title('Acousticness Distribution');"
   ]
  },
  {
   "cell_type": "code",
   "execution_count": 19,
   "metadata": {},
   "outputs": [
    {
     "data": {
      "image/png": "[encoded data removed]",
      "text/plain": [
       "<Figure size 432x288 with 1 Axes>"
      ]
     },
     "metadata": {
      "needs_background": "light"
     },
     "output_type": "display_data"
    }
   ],
   "source": [
    "full_df['duration_ms'].hist()\n",
    "plt.title('Duration in Milli Sec Distribution')\n",
    "plt.xlabel('Duration in Ms')\n",
    "plt.ylabel('Frequency');"
   ]
  },
  {
   "cell_type": "code",
   "execution_count": 20,
   "metadata": {},
   "outputs": [
    {
     "data": {
      "image/png": "[encoded data removed]",
      "text/plain": [
       "<Figure size 432x288 with 1 Axes>"
      ]
     },
     "metadata": {
      "needs_background": "light"
     },
     "output_type": "display_data"
    }
   ],
   "source": [
    "full_df['energy'].hist()\n",
    "plt.title('Energy Distribution');\n",
    "plt.xlabel('Energy')\n",
    "plt.ylabel('Frequency');"
   ]
  },
  {
   "cell_type": "code",
   "execution_count": 21,
   "metadata": {},
   "outputs": [
    {
     "data": {
      "image/png": "[encoded data removed]",
      "text/plain": [
       "<Figure size 432x288 with 1 Axes>"
      ]
     },
     "metadata": {
      "needs_background": "light"
     },
     "output_type": "display_data"
    }
   ],
   "source": [
    "full_df['liveness'].hist()\n",
    "plt.title('Liveness Distribution');\n",
    "plt.xlabel('Liveness')\n",
    "plt.ylabel('Frequency');"
   ]
  },
  {
   "cell_type": "code",
   "execution_count": null,
   "metadata": {},
   "outputs": [],
   "source": []
  },
  {
   "cell_type": "code",
   "execution_count": 22,
   "metadata": {},
   "outputs": [
    {
     "data": {
      "image/png": "[encoded data removed]",
      "text/plain": [
       "<Figure size 432x288 with 1 Axes>"
      ]
     },
     "metadata": {
      "needs_background": "light"
     },
     "output_type": "display_data"
    }
   ],
   "source": [
    "full_df['tempo'].hist()\n",
    "plt.title('Tempo Distribution');\n",
    "plt.xlabel('Tempo')\n",
    "plt.ylabel('Frequency');"
   ]
  },
  {
   "cell_type": "code",
   "execution_count": null,
   "metadata": {},
   "outputs": [],
   "source": []
  },
  {
   "cell_type": "code",
   "execution_count": 23,
   "metadata": {},
   "outputs": [
    {
     "data": {
      "image/png": "[encoded data removed]",
      "text/plain": [
       "<Figure size 432x288 with 1 Axes>"
      ]
     },
     "metadata": {
      "needs_background": "light"
     },
     "output_type": "display_data"
    }
   ],
   "source": [
    "df_audio_features['energy'].hist()\n",
    "plt.title(' Energy Distribution');"
   ]
  },
  {
   "cell_type": "code",
   "execution_count": 24,
   "metadata": {},
   "outputs": [
    {
     "data": {
      "image/png": "[encoded data removed]",
      "text/plain": [
       "<Figure size 432x288 with 1 Axes>"
      ]
     },
     "metadata": {
      "needs_background": "light"
     },
     "output_type": "display_data"
    }
   ],
   "source": [
    "df_audio_features['danceability'].hist()\n",
    "plt.title('Danceability Distribution');"
   ]
  },
  {
   "cell_type": "code",
   "execution_count": 25,
   "metadata": {},
   "outputs": [
    {
     "data": {
      "image/png": "[encoded data removed]",
      "text/plain": [
       "<Figure size 432x288 with 1 Axes>"
      ]
     },
     "metadata": {
      "needs_background": "light"
     },
     "output_type": "display_data"
    }
   ],
   "source": [
    "df_audio_features['loudness'].hist()\n",
    "plt.title('Loudness Distribution');"
   ]
  },
  {
   "cell_type": "code",
   "execution_count": 26,
   "metadata": {},
   "outputs": [
    {
     "data": {
      "image/png": "[encoded data removed]",
      "text/plain": [
       "<Figure size 432x288 with 1 Axes>"
      ]
     },
     "metadata": {
      "needs_background": "light"
     },
     "output_type": "display_data"
    }
   ],
   "source": [
    "df_audio_features['speechiness'].hist()\n",
    "plt.title(' Speechiness Distribution');"
   ]
  },
  {
   "cell_type": "code",
   "execution_count": 27,
   "metadata": {},
   "outputs": [],
   "source": [
    "key_pop = full_df.groupby(['key']).agg({'popularity':'mean'}).reset_index()"
   ]
  },
  {
   "cell_type": "code",
   "execution_count": 28,
   "metadata": {},
   "outputs": [
    {
     "data": {
      "image/png": "[encoded data removed]",
      "text/plain": [
       "<Figure size 432x288 with 1 Axes>"
      ]
     },
     "metadata": {
      "needs_background": "light"
     },
     "output_type": "display_data"
    }
   ],
   "source": [
    "sns.barplot(x=key_pop['key'],y=key_pop['popularity']);\n",
    "plt.title('Average Popularity by Key');"
   ]
  },
  {
   "cell_type": "code",
   "execution_count": 29,
   "metadata": {},
   "outputs": [],
   "source": [
    "key_pop_sum = full_df.groupby(['key']).agg({'popularity':'sum'}).reset_index()"
   ]
  },
  {
   "cell_type": "code",
   "execution_count": 30,
   "metadata": {},
   "outputs": [
    {
     "data": {
      "image/png": "[encoded data removed]",
      "text/plain": [
       "<Figure size 432x288 with 1 Axes>"
      ]
     },
     "metadata": {
      "needs_background": "light"
     },
     "output_type": "display_data"
    }
   ],
   "source": [
    "sns.barplot(x=key_pop_sum['key'],y=key_pop_sum['popularity']);\n",
    "plt.title('Popularity Sum by Key');"
   ]
  },
  {
   "cell_type": "code",
   "execution_count": 31,
   "metadata": {},
   "outputs": [
    {
     "data": {
      "image/png": "[encoded data removed]",
      "text/plain": [
       "<Figure size 432x288 with 1 Axes>"
      ]
     },
     "metadata": {
      "needs_background": "light"
     },
     "output_type": "display_data"
    }
   ],
   "source": [
    "sns.scatterplot(x=\"acousticness\", y=\"popularity\", data=full_df)\n",
    "plt.title('Acousticness');"
   ]
  },
  {
   "cell_type": "code",
   "execution_count": 32,
   "metadata": {},
   "outputs": [
    {
     "data": {
      "image/png": "[encoded data removed]",
      "text/plain": [
       "<Figure size 432x288 with 1 Axes>"
      ]
     },
     "metadata": {
      "needs_background": "light"
     },
     "output_type": "display_data"
    }
   ],
   "source": [
    "sns.scatterplot(x=\"danceability\", y=\"popularity\", data=full_df)\n",
    "plt.title('Danceability');"
   ]
  },
  {
   "cell_type": "code",
   "execution_count": 33,
   "metadata": {},
   "outputs": [
    {
     "data": {
      "image/png": "[encoded data removed]",
      "text/plain": [
       "<Figure size 432x288 with 1 Axes>"
      ]
     },
     "metadata": {
      "needs_background": "light"
     },
     "output_type": "display_data"
    }
   ],
   "source": [
    "sns.scatterplot(x=\"duration_ms\", y=\"popularity\", data=full_df)\n",
    "plt.title('Duration in Milli Seconds');"
   ]
  },
  {
   "cell_type": "code",
   "execution_count": 34,
   "metadata": {},
   "outputs": [
    {
     "data": {
      "image/png": "[encoded data removed]",
      "text/plain": [
       "<Figure size 432x288 with 1 Axes>"
      ]
     },
     "metadata": {
      "needs_background": "light"
     },
     "output_type": "display_data"
    }
   ],
   "source": [
    "sns.scatterplot(x=\"energy\", y=\"popularity\", data=full_df)\n",
    "plt.title('Energy');"
   ]
  },
  {
   "cell_type": "code",
   "execution_count": 35,
   "metadata": {},
   "outputs": [
    {
     "data": {
      "image/png": "[encoded data removed]",
      "text/plain": [
       "<Figure size 432x288 with 1 Axes>"
      ]
     },
     "metadata": {
      "needs_background": "light"
     },
     "output_type": "display_data"
    }
   ],
   "source": [
    "sns.scatterplot(x=\"instrumentalness\", y=\"popularity\", data=full_df)\n",
    "plt.title('Instrumentalness');"
   ]
  },
  {
   "cell_type": "code",
   "execution_count": 36,
   "metadata": {},
   "outputs": [
    {
     "data": {
      "image/png": "[encoded data removed]",
      "text/plain": [
       "<Figure size 432x288 with 1 Axes>"
      ]
     },
     "metadata": {
      "needs_background": "light"
     },
     "output_type": "display_data"
    }
   ],
   "source": [
    "sns.scatterplot(x=\"valence\", y=\"popularity\", data=full_df)\n",
    "plt.title('Valence');"
   ]
  },
  {
   "cell_type": "code",
   "execution_count": 37,
   "metadata": {},
   "outputs": [],
   "source": [
    "df = full_df[full_df['popularity'] > 25]"
   ]
  },
  {
   "cell_type": "code",
   "execution_count": 38,
   "metadata": {},
   "outputs": [
    {
     "data": {
      "image/png": "[encoded data removed]",
      "text/plain": [
       "<Figure size 432x288 with 1 Axes>"
      ]
     },
     "metadata": {
      "needs_background": "light"
     },
     "output_type": "display_data"
    }
   ],
   "source": [
    "df['popularity'].hist()\n",
    "plt.title(' Popularity Distribution');"
   ]
  },
  {
   "cell_type": "code",
   "execution_count": 39,
   "metadata": {},
   "outputs": [
    {
     "data": {
      "image/png": "[encoded data removed]",
      "text/plain": [
       "<Figure size 432x288 with 1 Axes>"
      ]
     },
     "metadata": {
      "needs_background": "light"
     },
     "output_type": "display_data"
    }
   ],
   "source": [
    "df['danceability'].hist()\n",
    "plt.title(' Danceability Distribution');"
   ]
  },
  {
   "cell_type": "code",
   "execution_count": 40,
   "metadata": {},
   "outputs": [
    {
     "data": {
      "image/png": "[encoded data removed]",
      "text/plain": [
       "<Figure size 432x288 with 1 Axes>"
      ]
     },
     "metadata": {
      "needs_background": "light"
     },
     "output_type": "display_data"
    }
   ],
   "source": [
    "df['energy'].hist()\n",
    "plt.title(' Energy Distribution');"
   ]
  },
  {
   "cell_type": "code",
   "execution_count": 41,
   "metadata": {},
   "outputs": [
    {
     "data": {
      "image/png": "[encoded data removed]",
      "text/plain": [
       "<Figure size 432x288 with 1 Axes>"
      ]
     },
     "metadata": {
      "needs_background": "light"
     },
     "output_type": "display_data"
    }
   ],
   "source": [
    "df['liveness'].hist()\n",
    "plt.title('Liveness Distribution');"
   ]
  },
  {
   "cell_type": "code",
   "execution_count": null,
   "metadata": {},
   "outputs": [],
   "source": []
  },
  {
   "cell_type": "code",
   "execution_count": null,
   "metadata": {},
   "outputs": [],
   "source": []
  },
  {
   "cell_type": "code",
   "execution_count": null,
   "metadata": {},
   "outputs": [],
   "source": []
  },
  {
   "cell_type": "markdown",
   "metadata": {},
   "source": [
    "# Splitting Training and Testing Data"
   ]
  },
  {
   "cell_type": "code",
   "execution_count": 42,
   "metadata": {},
   "outputs": [],
   "source": [
    "# Come back to this and figure it out\n",
    "y = df['popularity']\n",
    "X = df.drop(['popularity','artist_name', 'track_name', 'track_id','type','feature_artist/songname'],axis=1)\n",
    "\n",
    "# Train test split the dataset\n",
    "X_train, X_test, y_train, y_test = train_test_split(X,y,test_size=.2, random_state=2)"
   ]
  },
  {
   "cell_type": "code",
   "execution_count": 43,
   "metadata": {},
   "outputs": [],
   "source": [
    "X_train, X_val, y_train, y_val = train_test_split(X_train, y_train,test_size=.2, random_state=2)"
   ]
  },
  {
   "cell_type": "code",
   "execution_count": 44,
   "metadata": {},
   "outputs": [
    {
     "name": "stdout",
     "output_type": "stream",
     "text": [
      "The shape of X_Train is (467, 13)\n",
      "The shape of X_test is (147, 13)\n",
      "The shape of X_val is (117, 13)\n",
      "The shape of Y_Train is (467,)\n",
      "The shape of Y_test is (147,)\n",
      "The shape of Y_val is (117,)\n"
     ]
    }
   ],
   "source": [
    "\n",
    "print(f'The shape of X_Train is {X_train.shape}')\n",
    "print(f'The shape of X_test is {X_test.shape}')\n",
    "print(f'The shape of X_val is {X_val.shape}')\n",
    "print(f'The shape of Y_Train is {y_train.shape}')\n",
    "print(f'The shape of Y_test is {y_test.shape}')\n",
    "print(f'The shape of Y_val is {y_val.shape}')\n"
   ]
  },
  {
   "cell_type": "code",
   "execution_count": 45,
   "metadata": {},
   "outputs": [],
   "source": [
    "import warnings\n",
    "warnings.filterwarnings('ignore')"
   ]
  },
  {
   "cell_type": "code",
   "execution_count": null,
   "metadata": {},
   "outputs": [],
   "source": []
  },
  {
   "cell_type": "code",
   "execution_count": null,
   "metadata": {},
   "outputs": [],
   "source": []
  },
  {
   "cell_type": "markdown",
   "metadata": {},
   "source": [
    "# Linear Regression Vanilla"
   ]
  },
  {
   "cell_type": "code",
   "execution_count": 46,
   "metadata": {},
   "outputs": [],
   "source": [
    "from sklearn.linear_model import LinearRegression"
   ]
  },
  {
   "cell_type": "code",
   "execution_count": 47,
   "metadata": {},
   "outputs": [
    {
     "data": {
      "text/plain": [
       "LinearRegression(copy_X=True, fit_intercept=True, n_jobs=None, normalize=False)"
      ]
     },
     "execution_count": 47,
     "metadata": {},
     "output_type": "execute_result"
    }
   ],
   "source": [
    "# instantiate the model\n",
    "linreg = LinearRegression()\n",
    "# fit the model to the train data\n",
    "linreg.fit(X_train,y_train)"
   ]
  },
  {
   "cell_type": "code",
   "execution_count": 48,
   "metadata": {},
   "outputs": [],
   "source": [
    "# get the prediction\n",
    "y_preds = linreg.predict(X_val)\n",
    "# calculate the mse\n",
    "mse_linreg = mean_squared_error(y_val, y_preds)"
   ]
  },
  {
   "cell_type": "code",
   "execution_count": 49,
   "metadata": {},
   "outputs": [
    {
     "name": "stdout",
     "output_type": "stream",
     "text": [
      "The Mean Squared Error For Linear Regression Vanilla Is: 100.22694747191427\n",
      "The R^2 value is : 0.08385694085628614\n",
      "The cross val score is : -1.34448131255436\n"
     ]
    }
   ],
   "source": [
    "\n",
    "# print the mse\n",
    "print(f'the mean squared error for Linear Regression Vanilla is: {mse_linreg}'.title())\n",
    "print(f'The R^2 value is : {r2_score(y_val, y_preds)}')\n",
    "print(f'The cross val score is : {np.mean(cross_val_score(linreg,X,y, cv=3))}')"
   ]
  },
  {
   "cell_type": "code",
   "execution_count": null,
   "metadata": {},
   "outputs": [],
   "source": []
  },
  {
   "cell_type": "markdown",
   "metadata": {},
   "source": [
    "# XGBoost Vanilla"
   ]
  },
  {
   "cell_type": "code",
   "execution_count": 50,
   "metadata": {},
   "outputs": [
    {
     "name": "stdout",
     "output_type": "stream",
     "text": [
      "[14:29:59] WARNING: src/objective/regression_obj.cu:152: reg:linear is now deprecated in favor of reg:squarederror.\n"
     ]
    },
    {
     "data": {
      "text/plain": [
       "XGBRegressor(base_score=0.5, booster='gbtree', colsample_bylevel=1,\n",
       "             colsample_bynode=1, colsample_bytree=1, gamma=0,\n",
       "             importance_type='gain', learning_rate=0.1, max_delta_step=0,\n",
       "             max_depth=3, min_child_weight=1, missing=None, n_estimators=100,\n",
       "             n_jobs=1, nthread=None, objective='reg:linear', random_state=0,\n",
       "             reg_alpha=0, reg_lambda=1, scale_pos_weight=1, seed=None,\n",
       "             silent=None, subsample=1, verbosity=1)"
      ]
     },
     "execution_count": 50,
     "metadata": {},
     "output_type": "execute_result"
    }
   ],
   "source": [
    "# instantiate the model\n",
    "xgb = xgboost.XGBRegressor()\n",
    "# fit the model to training data\n",
    "xgb.fit(X_train,y_train)\n"
   ]
  },
  {
   "cell_type": "code",
   "execution_count": 51,
   "metadata": {},
   "outputs": [
    {
     "data": {
      "text/plain": [
       "85.06515163770165"
      ]
     },
     "execution_count": 51,
     "metadata": {},
     "output_type": "execute_result"
    }
   ],
   "source": [
    "xgb_y_preds = xgb.predict(X_val)\n",
    "mse_xgb = mean_squared_error(y_val,xgb_y_preds)\n",
    "mse_xgb"
   ]
  },
  {
   "cell_type": "code",
   "execution_count": 52,
   "metadata": {},
   "outputs": [
    {
     "name": "stdout",
     "output_type": "stream",
     "text": [
      "The R^2 value of the XGBoost Model is : 0.22244615631214293 \n",
      "The Mean squared error for the XGBoost model is 85.06515163770165\n",
      "[14:29:59] WARNING: src/objective/regression_obj.cu:152: reg:linear is now deprecated in favor of reg:squarederror.\n",
      "[14:30:00] WARNING: src/objective/regression_obj.cu:152: reg:linear is now deprecated in favor of reg:squarederror.\n",
      "[14:30:00] WARNING: src/objective/regression_obj.cu:152: reg:linear is now deprecated in favor of reg:squarederror.\n",
      "The cross val score is : -1.539276037196706\n"
     ]
    }
   ],
   "source": [
    "print(f'The R^2 value of the XGBoost Model is : {r2_score(y_val,xgb_y_preds)} ')\n",
    "print(f'The Mean squared error for the XGBoost model is {mse_xgb}')\n",
    "print(f'The cross val score is : {np.mean(cross_val_score(xgb,X,y, cv=3))}')"
   ]
  },
  {
   "cell_type": "code",
   "execution_count": 53,
   "metadata": {},
   "outputs": [
    {
     "data": {
      "image/png": "[encoded data removed]",
      "text/plain": [
       "<Figure size 504x432 with 1 Axes>"
      ]
     },
     "metadata": {
      "needs_background": "light"
     },
     "output_type": "display_data"
    }
   ],
   "source": [
    "xgb_feat_imp = pd.DataFrame(xgb.feature_importances_, index=X_train.columns).sort_values(by=0,ascending=False)\n",
    "# turning it into a Dataframe makes it easier to work with\n",
    "\n",
    "plt.figure(figsize=[7,6])\n",
    "sns.barplot(y=xgb_feat_imp.index,x=xgb_feat_imp[0],orient='h');\n",
    "plt.title('XGBoost: Feature Importance Score');\n",
    "plt.ylabel('Features');\n",
    "plt.xlabel('Score');"
   ]
  },
  {
   "cell_type": "code",
   "execution_count": null,
   "metadata": {},
   "outputs": [],
   "source": []
  },
  {
   "cell_type": "markdown",
   "metadata": {},
   "source": [
    "# AdaBoost Vanilla"
   ]
  },
  {
   "cell_type": "code",
   "execution_count": 54,
   "metadata": {},
   "outputs": [
    {
     "data": {
      "text/plain": [
       "AdaBoostRegressor(base_estimator=None, learning_rate=1.0, loss='linear',\n",
       "                  n_estimators=50, random_state=None)"
      ]
     },
     "execution_count": 54,
     "metadata": {},
     "output_type": "execute_result"
    }
   ],
   "source": [
    "# instantaite adaboost model\n",
    "ada = AdaBoostRegressor()\n",
    "\n",
    "# fit the model to the train data\n",
    "ada.fit(X_train,y_train)"
   ]
  },
  {
   "cell_type": "code",
   "execution_count": 55,
   "metadata": {},
   "outputs": [
    {
     "name": "stdout",
     "output_type": "stream",
     "text": [
      "The Mean squared error for the ada boost model is 97.47031985251948\n",
      "The R^2 value is : 0.5071818903150302 \n"
     ]
    }
   ],
   "source": [
    "# get the prediction\n",
    "ada_preds = ada.predict(X_val)\n",
    "# get the MSE\n",
    "mse_ada = mean_squared_error(y_val, ada_preds)\n",
    "#print the mse\n",
    "print(f'The Mean squared error for the ada boost model is {mse_ada}')\n",
    "print(f'The R^2 value is : {ada.score(X_train,y_train)} ')\n",
    "#print(f'The cross val score is : {np.mean(cross_val_score(ada,X,y, cv=3))}')"
   ]
  },
  {
   "cell_type": "code",
   "execution_count": null,
   "metadata": {},
   "outputs": [],
   "source": []
  },
  {
   "cell_type": "code",
   "execution_count": null,
   "metadata": {},
   "outputs": [],
   "source": []
  },
  {
   "cell_type": "code",
   "execution_count": 56,
   "metadata": {},
   "outputs": [
    {
     "data": {
      "image/png": "[encoded data removed]",
      "text/plain": [
       "<Figure size 504x432 with 1 Axes>"
      ]
     },
     "metadata": {
      "needs_background": "light"
     },
     "output_type": "display_data"
    }
   ],
   "source": [
    "ada_feat_imp = pd.DataFrame(ada.feature_importances_, index=X_train.columns).sort_values(by=0,ascending=False)\n",
    "# turning it into a Dataframe makes it easier to work with\n",
    "\n",
    "plt.figure(figsize=[7,6])\n",
    "sns.barplot(y=ada_feat_imp.index,x=ada_feat_imp[0],orient='h');\n",
    "plt.title('AdaBoost: Feature Importance Score');\n",
    "plt.ylabel('Features');\n",
    "plt.xlabel('Score');"
   ]
  },
  {
   "cell_type": "code",
   "execution_count": null,
   "metadata": {},
   "outputs": [],
   "source": []
  },
  {
   "cell_type": "markdown",
   "metadata": {},
   "source": [
    "# GradientBoosting "
   ]
  },
  {
   "cell_type": "code",
   "execution_count": 57,
   "metadata": {},
   "outputs": [],
   "source": [
    "# import needed library\n",
    "from sklearn.ensemble import GradientBoostingRegressor"
   ]
  },
  {
   "cell_type": "code",
   "execution_count": 58,
   "metadata": {},
   "outputs": [
    {
     "data": {
      "text/plain": [
       "GradientBoostingRegressor(alpha=0.9, criterion='friedman_mse', init=None,\n",
       "                          learning_rate=0.1, loss='ls', max_depth=3,\n",
       "                          max_features=None, max_leaf_nodes=None,\n",
       "                          min_impurity_decrease=0.0, min_impurity_split=None,\n",
       "                          min_samples_leaf=1, min_samples_split=2,\n",
       "                          min_weight_fraction_leaf=0.0, n_estimators=100,\n",
       "                          n_iter_no_change=None, presort='auto',\n",
       "                          random_state=None, subsample=1.0, tol=0.0001,\n",
       "                          validation_fraction=0.1, verbose=0, warm_start=False)"
      ]
     },
     "execution_count": 58,
     "metadata": {},
     "output_type": "execute_result"
    }
   ],
   "source": [
    "# instantiate the model\n",
    "gdb = GradientBoostingRegressor()\n",
    "# fit the model to training data\n",
    "gdb.fit(X_train,y_train)"
   ]
  },
  {
   "cell_type": "code",
   "execution_count": 59,
   "metadata": {},
   "outputs": [
    {
     "name": "stdout",
     "output_type": "stream",
     "text": [
      "the mean squared error for gradient boosting test data is 85.19433284973888\n",
      "The R^2 value is : 0.22126535141121695\n",
      "The cross val score is : -1.465710970487624\n"
     ]
    }
   ],
   "source": [
    "# get predictions\n",
    "gdb_preds = gdb.predict(X_val)\n",
    "\n",
    "#get MeanSE\n",
    "mse_gdb = mean_squared_error(gdb_preds,y_val)\n",
    "\n",
    "print(f'the mean squared error for gradient boosting test data is {mse_gdb}')\n",
    "print(f'The R^2 value is : {r2_score(y_val,gdb_preds)}')\n",
    "print(f'The cross val score is : {np.mean(cross_val_score(gdb,X,y, cv=3))}')"
   ]
  },
  {
   "cell_type": "code",
   "execution_count": 60,
   "metadata": {},
   "outputs": [
    {
     "data": {
      "image/png": "[encoded data removed]",
      "text/plain": [
       "<Figure size 504x432 with 1 Axes>"
      ]
     },
     "metadata": {
      "needs_background": "light"
     },
     "output_type": "display_data"
    }
   ],
   "source": [
    "gdb_feat_imp = pd.DataFrame(gdb.feature_importances_, index=X_train.columns).sort_values(by=0,ascending=False)\n",
    "# turning it into a Dataframe makes it easier to work with\n",
    "\n",
    "plt.figure(figsize=[7,6])\n",
    "sns.barplot(y=gdb_feat_imp.index,x=gdb_feat_imp[0],orient='h');\n",
    "plt.title('GradientBoosting: Feature Importance Score');\n",
    "plt.ylabel('Features');\n",
    "plt.xlabel('Score');"
   ]
  },
  {
   "cell_type": "code",
   "execution_count": null,
   "metadata": {},
   "outputs": [],
   "source": []
  },
  {
   "cell_type": "markdown",
   "metadata": {},
   "source": [
    "# Random Forest"
   ]
  },
  {
   "cell_type": "code",
   "execution_count": 61,
   "metadata": {},
   "outputs": [
    {
     "data": {
      "text/plain": [
       "RandomForestRegressor(bootstrap=True, criterion='mse', max_depth=None,\n",
       "                      max_features='auto', max_leaf_nodes=None,\n",
       "                      min_impurity_decrease=0.0, min_impurity_split=None,\n",
       "                      min_samples_leaf=1, min_samples_split=2,\n",
       "                      min_weight_fraction_leaf=0.0, n_estimators=10,\n",
       "                      n_jobs=None, oob_score=False, random_state=None,\n",
       "                      verbose=0, warm_start=False)"
      ]
     },
     "execution_count": 61,
     "metadata": {},
     "output_type": "execute_result"
    }
   ],
   "source": [
    "# instantiate the model\n",
    "rfr = RandomForestRegressor()\n",
    "\n",
    "# fit the model to training data\n",
    "rfr.fit(X_train, y_train)"
   ]
  },
  {
   "cell_type": "code",
   "execution_count": 62,
   "metadata": {},
   "outputs": [
    {
     "name": "stdout",
     "output_type": "stream",
     "text": [
      "The mean squared error for Random Forest Validation Data is: 97.68777217473884 \n",
      "The R^2 value is : 0.10706674503702618\n",
      "The cross val score is : -1.6331618187083883\n"
     ]
    }
   ],
   "source": [
    "# Get predictions\n",
    "rfr_preds = rfr.predict(X_val)\n",
    "\n",
    "# get MSE for model\n",
    "mse_rfr = mean_squared_error(y_val, rfr_preds)\n",
    "# print Mse\n",
    "print(f'The mean squared error for Random Forest Validation Data is: {mse_rfr} ')\n",
    "print(f'The R^2 value is : {r2_score(y_val,rfr_preds)}')\n",
    "print(f'The cross val score is : {np.mean(cross_val_score(rfr,X,y, cv=3))}')"
   ]
  },
  {
   "cell_type": "code",
   "execution_count": 63,
   "metadata": {},
   "outputs": [
    {
     "data": {
      "image/png": "[encoded data removed]",
      "text/plain": [
       "<Figure size 504x432 with 1 Axes>"
      ]
     },
     "metadata": {
      "needs_background": "light"
     },
     "output_type": "display_data"
    }
   ],
   "source": [
    "rfr_feat_imp = pd.DataFrame(rfr.feature_importances_, index=X_train.columns).sort_values(by=0,ascending=False)\n",
    "# turning it into a Dataframe makes it easier to work with\n",
    "\n",
    "plt.figure(figsize=[7,6])\n",
    "sns.barplot(y=rfr_feat_imp.index,x=rfr_feat_imp[0],orient='h');\n",
    "plt.title('Random Forest: Feature Importance Score');\n",
    "plt.ylabel('Features');\n",
    "plt.xlabel('Score');"
   ]
  },
  {
   "cell_type": "markdown",
   "metadata": {},
   "source": [
    "# End of Vanilla Models"
   ]
  },
  {
   "cell_type": "code",
   "execution_count": null,
   "metadata": {},
   "outputs": [],
   "source": []
  },
  {
   "cell_type": "markdown",
   "metadata": {},
   "source": [
    "# Feature Engineering"
   ]
  },
  {
   "cell_type": "code",
   "execution_count": 65,
   "metadata": {},
   "outputs": [
    {
     "data": {
      "text/plain": [
       "278"
      ]
     },
     "execution_count": 65,
     "metadata": {},
     "output_type": "execute_result"
    }
   ],
   "source": [
    "df['artist_name'].nunique()"
   ]
  },
  {
   "cell_type": "code",
   "execution_count": 66,
   "metadata": {},
   "outputs": [
    {
     "data": {
      "text/plain": [
       "(731, 19)"
      ]
     },
     "execution_count": 66,
     "metadata": {},
     "output_type": "execute_result"
    }
   ],
   "source": [
    "df.shape"
   ]
  },
  {
   "cell_type": "code",
   "execution_count": 67,
   "metadata": {},
   "outputs": [],
   "source": [
    "# Change artist names to numbers "
   ]
  },
  {
   "cell_type": "code",
   "execution_count": 68,
   "metadata": {},
   "outputs": [
    {
     "data": {
      "text/html": [
       "<div>\n",
       "<style scoped>\n",
       "    .dataframe tbody tr th:only-of-type {\n",
       "        vertical-align: middle;\n",
       "    }\n",
       "\n",
       "    .dataframe tbody tr th {\n",
       "        vertical-align: top;\n",
       "    }\n",
       "\n",
       "    .dataframe thead th {\n",
       "        text-align: right;\n",
       "    }\n",
       "</style>\n",
       "<table border=\"1\" class=\"dataframe\">\n",
       "  <thead>\n",
       "    <tr style=\"text-align: right;\">\n",
       "      <th></th>\n",
       "      <th>artist_name</th>\n",
       "      <th>track_name</th>\n",
       "      <th>track_id</th>\n",
       "      <th>popularity</th>\n",
       "      <th>acousticness</th>\n",
       "      <th>danceability</th>\n",
       "      <th>duration_ms</th>\n",
       "      <th>energy</th>\n",
       "      <th>instrumentalness</th>\n",
       "      <th>key</th>\n",
       "      <th>liveness</th>\n",
       "      <th>loudness</th>\n",
       "      <th>mode</th>\n",
       "      <th>speechiness</th>\n",
       "      <th>tempo</th>\n",
       "      <th>time_signature</th>\n",
       "      <th>type</th>\n",
       "      <th>valence</th>\n",
       "      <th>feature_artist/songname</th>\n",
       "    </tr>\n",
       "  </thead>\n",
       "  <tbody>\n",
       "    <tr>\n",
       "      <th>0</th>\n",
       "      <td>24kGoldn</td>\n",
       "      <td>Mood (feat. iann dior)</td>\n",
       "      <td>3tjFYV6RSFtuktYl3ZtYcq</td>\n",
       "      <td>100</td>\n",
       "      <td>0.2210</td>\n",
       "      <td>0.700</td>\n",
       "      <td>140526</td>\n",
       "      <td>0.722</td>\n",
       "      <td>0.000000</td>\n",
       "      <td>7</td>\n",
       "      <td>0.2720</td>\n",
       "      <td>-3.558</td>\n",
       "      <td>0</td>\n",
       "      <td>0.0369</td>\n",
       "      <td>90.989</td>\n",
       "      <td>4</td>\n",
       "      <td>audio_features</td>\n",
       "      <td>0.756</td>\n",
       "      <td>Mood (feat. iann dior)</td>\n",
       "    </tr>\n",
       "    <tr>\n",
       "      <th>1</th>\n",
       "      <td>Cardi B</td>\n",
       "      <td>WAP (feat. Megan Thee Stallion)</td>\n",
       "      <td>4Oun2ylbjFKMPTiaSbbCih</td>\n",
       "      <td>97</td>\n",
       "      <td>0.0194</td>\n",
       "      <td>0.935</td>\n",
       "      <td>187541</td>\n",
       "      <td>0.454</td>\n",
       "      <td>0.000000</td>\n",
       "      <td>1</td>\n",
       "      <td>0.0824</td>\n",
       "      <td>-7.509</td>\n",
       "      <td>1</td>\n",
       "      <td>0.3750</td>\n",
       "      <td>133.073</td>\n",
       "      <td>4</td>\n",
       "      <td>audio_features</td>\n",
       "      <td>0.357</td>\n",
       "      <td>WAP (feat. Megan Thee Stallion)</td>\n",
       "    </tr>\n",
       "    <tr>\n",
       "      <th>2</th>\n",
       "      <td>Pop Smoke</td>\n",
       "      <td>For The Night (feat. Lil Baby &amp; DaBaby)</td>\n",
       "      <td>0PvFJmanyNQMseIFrU708S</td>\n",
       "      <td>95</td>\n",
       "      <td>0.1140</td>\n",
       "      <td>0.823</td>\n",
       "      <td>190476</td>\n",
       "      <td>0.586</td>\n",
       "      <td>0.000000</td>\n",
       "      <td>6</td>\n",
       "      <td>0.1930</td>\n",
       "      <td>-6.606</td>\n",
       "      <td>0</td>\n",
       "      <td>0.2000</td>\n",
       "      <td>125.971</td>\n",
       "      <td>4</td>\n",
       "      <td>audio_features</td>\n",
       "      <td>0.347</td>\n",
       "      <td>For The Night (feat. Lil Baby &amp; DaBaby)</td>\n",
       "    </tr>\n",
       "    <tr>\n",
       "      <th>3</th>\n",
       "      <td>Drake</td>\n",
       "      <td>Laugh Now Cry Later (feat. Lil Durk)</td>\n",
       "      <td>2SAqBLGA283SUiwJ3xOUVI</td>\n",
       "      <td>94</td>\n",
       "      <td>0.2440</td>\n",
       "      <td>0.761</td>\n",
       "      <td>261493</td>\n",
       "      <td>0.518</td>\n",
       "      <td>0.000035</td>\n",
       "      <td>0</td>\n",
       "      <td>0.1070</td>\n",
       "      <td>-8.871</td>\n",
       "      <td>1</td>\n",
       "      <td>0.1340</td>\n",
       "      <td>133.976</td>\n",
       "      <td>4</td>\n",
       "      <td>audio_features</td>\n",
       "      <td>0.522</td>\n",
       "      <td>Laugh Now Cry Later (feat. Lil Durk)</td>\n",
       "    </tr>\n",
       "    <tr>\n",
       "      <th>4</th>\n",
       "      <td>Pop Smoke</td>\n",
       "      <td>What You Know Bout Love</td>\n",
       "      <td>1tkg4EHVoqnhR6iFEXb60y</td>\n",
       "      <td>96</td>\n",
       "      <td>0.6500</td>\n",
       "      <td>0.709</td>\n",
       "      <td>160000</td>\n",
       "      <td>0.548</td>\n",
       "      <td>0.000002</td>\n",
       "      <td>10</td>\n",
       "      <td>0.1330</td>\n",
       "      <td>-8.493</td>\n",
       "      <td>1</td>\n",
       "      <td>0.3530</td>\n",
       "      <td>83.995</td>\n",
       "      <td>4</td>\n",
       "      <td>audio_features</td>\n",
       "      <td>0.543</td>\n",
       "      <td>What You Know Bout Love</td>\n",
       "    </tr>\n",
       "  </tbody>\n",
       "</table>\n",
       "</div>"
      ],
      "text/plain": [
       "  artist_name                               track_name  \\\n",
       "0    24kGoldn                   Mood (feat. iann dior)   \n",
       "1     Cardi B          WAP (feat. Megan Thee Stallion)   \n",
       "2   Pop Smoke  For The Night (feat. Lil Baby & DaBaby)   \n",
       "3       Drake     Laugh Now Cry Later (feat. Lil Durk)   \n",
       "4   Pop Smoke                  What You Know Bout Love   \n",
       "\n",
       "                 track_id  popularity  acousticness  danceability  \\\n",
       "0  3tjFYV6RSFtuktYl3ZtYcq         100        0.2210         0.700   \n",
       "1  4Oun2ylbjFKMPTiaSbbCih          97        0.0194         0.935   \n",
       "2  0PvFJmanyNQMseIFrU708S          95        0.1140         0.823   \n",
       "3  2SAqBLGA283SUiwJ3xOUVI          94        0.2440         0.761   \n",
       "4  1tkg4EHVoqnhR6iFEXb60y          96        0.6500         0.709   \n",
       "\n",
       "   duration_ms  energy  instrumentalness  key  liveness  loudness  mode  \\\n",
       "0       140526   0.722          0.000000    7    0.2720    -3.558     0   \n",
       "1       187541   0.454          0.000000    1    0.0824    -7.509     1   \n",
       "2       190476   0.586          0.000000    6    0.1930    -6.606     0   \n",
       "3       261493   0.518          0.000035    0    0.1070    -8.871     1   \n",
       "4       160000   0.548          0.000002   10    0.1330    -8.493     1   \n",
       "\n",
       "   speechiness    tempo  time_signature            type  valence  \\\n",
       "0       0.0369   90.989               4  audio_features    0.756   \n",
       "1       0.3750  133.073               4  audio_features    0.357   \n",
       "2       0.2000  125.971               4  audio_features    0.347   \n",
       "3       0.1340  133.976               4  audio_features    0.522   \n",
       "4       0.3530   83.995               4  audio_features    0.543   \n",
       "\n",
       "                   feature_artist/songname  \n",
       "0                   Mood (feat. iann dior)  \n",
       "1          WAP (feat. Megan Thee Stallion)  \n",
       "2  For The Night (feat. Lil Baby & DaBaby)  \n",
       "3     Laugh Now Cry Later (feat. Lil Durk)  \n",
       "4                  What You Know Bout Love  "
      ]
     },
     "execution_count": 68,
     "metadata": {},
     "output_type": "execute_result"
    }
   ],
   "source": [
    "df.head()"
   ]
  },
  {
   "cell_type": "code",
   "execution_count": 73,
   "metadata": {},
   "outputs": [],
   "source": [
    "pop_df = df.groupby('artist_name').agg({'popularity':'mean'}).reset_index()"
   ]
  },
  {
   "cell_type": "code",
   "execution_count": 74,
   "metadata": {},
   "outputs": [
    {
     "data": {
      "text/plain": [
       "<matplotlib.axes._subplots.AxesSubplot at 0x133e66630>"
      ]
     },
     "execution_count": 74,
     "metadata": {},
     "output_type": "execute_result"
    },
    {
     "data": {
      "image/png": "[encoded data removed]",
      "text/plain": [
       "<Figure size 432x288 with 1 Axes>"
      ]
     },
     "metadata": {
      "needs_background": "light"
     },
     "output_type": "display_data"
    }
   ],
   "source": [
    "pop_df['popularity'].hist()"
   ]
  },
  {
   "cell_type": "code",
   "execution_count": 79,
   "metadata": {
    "collapsed": true,
    "jupyter": {
     "outputs_hidden": true
    }
   },
   "outputs": [
    {
     "name": "stdout",
     "output_type": "stream",
     "text": [
      "$NOT\n",
      "$uicideBoy$\n",
      "2 Chainz\n",
      "21 Savage\n",
      "24kGoldn\n",
      "2KBABY\n",
      "347aidan\n",
      "42 Dugg\n",
      "5 Seconds of Summer\n",
      "6ix9ine\n",
      "A Boogie Wit da Hoodie\n",
      "AJR\n",
      "Alesso\n",
      "Alexander 23\n",
      "Ali Gatie\n",
      "All Time Low\n",
      "Andrew Jannakos\n",
      "Anitta\n",
      "Anuel AA\n",
      "Ariana Grande\n",
      "Ashe\n",
      "Ashnikko\n",
      "Ava Max\n",
      "Avenue Beat\n",
      "BLACKPINK\n",
      "BRS Kash\n",
      "BTS\n",
      "Baby Keem\n",
      "Bad Bunny\n",
      "Bankrol Hayden\n",
      "Bazzi\n",
      "Beatking\n",
      "Bebe Rexha\n",
      "Big Sean\n",
      "BigKayBeezy\n",
      "Billie Eilish\n",
      "Billy Currington\n",
      "Blake Shelton\n",
      "Brent Faiyaz\n",
      "Brett Young\n",
      "Bring Me The Horizon\n",
      "Bryson Tiller\n",
      "CJ\n",
      "CORPSE\n",
      "Calvin Harris\n",
      "Camilo\n",
      "Cardi B\n",
      "Carly Pearce\n",
      "Chase Rice\n",
      "Chris Brown\n",
      "Chris Stapleton\n",
      "City Girls\n",
      "Claire Rosinkranz\n",
      "Clean Bandit\n",
      "Cmten\n",
      "Cole Swindell\n",
      "Conan Gray\n",
      "Cordae\n",
      "Curtis Waters\n",
      "DDG\n",
      "DJ Chose\n",
      "DJ Khaled\n",
      "DaBaby\n",
      "Daddy Yankee\n",
      "Dan + Shay\n",
      "Demi Lovato\n",
      "Diplo\n",
      "Dixie D’Amelio\n",
      "Doja Cat\n",
      "Don Toliver\n",
      "Drake\n",
      "DripReport\n",
      "Dua Lipa\n",
      "Dustin Lynch\n",
      "El Fantasma\n",
      "Ella Mai\n",
      "Eminem\n",
      "Epic Soundscapes\n",
      "Eric Church\n",
      "Eslabon Armado\n",
      "FLETCHER\n",
      "Farruko\n",
      "Filmore\n",
      "Flo Milli\n",
      "Florida Georgia Line\n",
      "Fousheé\n",
      "French Montana\n",
      "Future\n",
      "G Herbo\n",
      "G-Eazy\n",
      "Gabby Barrett\n",
      "Giveon\n",
      "Glass Animals\n",
      "Granger Smith\n",
      "Gunna\n",
      "H.E.R.\n",
      "HARDY\n",
      "Hailee Steinfeld\n",
      "Halsey\n",
      "High Valley\n",
      "ILLENIUM\n",
      "Internet Money\n",
      "J Balvin\n",
      "J. Cole\n",
      "JP Saxe\n",
      "JVKE\n",
      "Jack Harlow\n",
      "Jason Derulo\n",
      "Jawsh 685\n",
      "Jay Wheeler\n",
      "Jeezy\n",
      "Jerry Di\n",
      "Jhay Cortez\n",
      "Jhené Aiko\n",
      "Joel Corry\n",
      "John Legend\n",
      "Joji\n",
      "Jonas Brothers\n",
      "Jordan Davis\n",
      "Joseph Black\n",
      "Joyner Lucas\n",
      "Juice WRLD\n",
      "Julie and the Phantoms Cast\n",
      "Junior H\n",
      "Justin Bieber\n",
      "Justin Quiles\n",
      "K/DA\n",
      "KAROL G\n",
      "Kameron Marlowe\n",
      "Kane Brown\n",
      "Katy Perry\n",
      "Kehlani\n",
      "Keith Urban\n",
      "Kenndog\n",
      "Kenny Chesney\n",
      "Khalid\n",
      "Kid Cudi\n",
      "Kidd G\n",
      "King Von\n",
      "Kygo\n",
      "Lady Gaga\n",
      "Larray\n",
      "Lauv\n",
      "Lee Brice\n",
      "Lele Pons\n",
      "Lennon Stella\n",
      "Lil Baby\n",
      "Lil Durk\n",
      "Lil Eazzyy\n",
      "Lil Mosey\n",
      "Lil Peep\n",
      "Lil Skies\n",
      "Lil Tecca\n",
      "Lil Tjay\n",
      "Lil Uzi Vert\n",
      "Lil Yachty\n",
      "Lindsay Ell\n",
      "Little Big Town\n",
      "Logic\n",
      "Luke Bryan\n",
      "Luke Combs\n",
      "Lund\n",
      "MASN\n",
      "MAX\n",
      "MEDUZA\n",
      "Mac Miller\n",
      "Machine Gun Kelly\n",
      "Maddie & Tae\n",
      "Madison Beer\n",
      "Maluma\n",
      "Manuel Turizo\n",
      "Maren Morris\n",
      "Mario Judah\n",
      "Maroon 5\n",
      "Marshmello\n",
      "Megan Thee Stallion\n",
      "Migos\n",
      "Mike WiLL Made-It\n",
      "Miley Cyrus\n",
      "MisterWives\n",
      "Mitchell Tenpenny\n",
      "Money Man\n",
      "Moneybagg Yo\n",
      "Morgan Wallen\n",
      "Mulatto\n",
      "NAV\n",
      "NF\n",
      "NLE Choppa\n",
      "NextYoungin\n",
      "Niall Horan\n",
      "Nicki Minaj\n",
      "Nio Garcia\n",
      "Noah Cyrus\n",
      "Octavian\n",
      "Oliver Tree\n",
      "Olivia O'Brien\n",
      "Ozuna\n",
      "Ozzy Osbourne\n",
      "PARTYNEXTDOOR\n",
      "Pink Sweat$\n",
      "Polo G\n",
      "Pop Smoke\n",
      "Powfu\n",
      "Princess Nokia\n",
      "Prxxy\n",
      "Quinn XCII\n",
      "ROSALÍA\n",
      "Rauw Alejandro\n",
      "Ritt Momney\n",
      "Rod Wave\n",
      "Royal & the Serpent\n",
      "Russ\n",
      "Russell Dickerson\n",
      "Ryan Hurd\n",
      "RØNIN\n",
      "SAINt JHN\n",
      "SZA\n",
      "Sada Baby\n",
      "Sam Grow\n",
      "Sam Hunt\n",
      "Sam Smith\n",
      "Saweetie\n",
      "Sech\n",
      "Selena Gomez\n",
      "Shawn Mendes\n",
      "Sheff G\n",
      "Sia\n",
      "Sigala\n",
      "Sista Prod\n",
      "Sleepy Hallow\n",
      "Spencer Crandall\n",
      "StaySolidRocky\n",
      "Stellar\n",
      "Still Woozy\n",
      "Stray Kids\n",
      "Sub Urban\n",
      "Surfaces\n",
      "T.I.\n",
      "THE SCOTTS\n",
      "TOMORROW X TOGETHER\n",
      "TWICE\n",
      "Tai Verdes\n",
      "Tainy\n",
      "Tame Impala\n",
      "Tate McRae\n",
      "Taylor Swift\n",
      "The Kid LAROI\n",
      "The Weeknd\n",
      "Thomas Rhett\n",
      "Thundercat\n",
      "Tiësto\n",
      "Tones And I\n",
      "Tory Lanez\n",
      "Travis Scott\n",
      "Trevor Daniel\n",
      "Trippie Redd\n",
      "Twenty One Pilots\n",
      "Ty Dolla $ign\n",
      "Tyla Yaweh\n",
      "Tyler, The Creator\n",
      "Vedo\n",
      "Wallows\n",
      "Waterloo Revival\n",
      "WhoHeem\n",
      "Why Don't We\n",
      "Wisin\n",
      "XXXTENTACION\n",
      "YFN Lucci\n",
      "YNW Melly\n",
      "Yandel\n",
      "YoungBoy Never Broke Again\n",
      "Yung Bleu\n",
      "ZAYN\n",
      "Zedd\n",
      "blackbear\n",
      "iann dior\n",
      "jxdn\n",
      "salem ilese\n"
     ]
    }
   ],
   "source": [
    "for i in pop_df['artist_name']:\n",
    "    print(i)"
   ]
  },
  {
   "cell_type": "code",
   "execution_count": null,
   "metadata": {},
   "outputs": [],
   "source": []
  },
  {
   "cell_type": "code",
   "execution_count": null,
   "metadata": {},
   "outputs": [],
   "source": []
  }
 ],
 "metadata": {
  "kernelspec": {
   "display_name": "Python 3",
   "language": "python",
   "name": "python3"
  },
  "language_info": {
   "codemirror_mode": {
    "name": "ipython",
    "version": 3
   },
   "file_extension": ".py",
   "mimetype": "text/x-python",
   "name": "python",
   "nbconvert_exporter": "python",
   "pygments_lexer": "ipython3",
   "version": "3.7.3"
  }
 },
 "nbformat": 4,
 "nbformat_minor": 4
}
