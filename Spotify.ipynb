{
 "cells": [
  {
   "cell_type": "code",
   "execution_count": 1,
   "metadata": {},
   "outputs": [
    {
     "name": "stdout",
     "output_type": "stream",
     "text": [
      "Requirement already satisfied: spotipy in /anaconda3/lib/python3.7/site-packages (2.16.0)\n",
      "Requirement already satisfied: requests>=2.20.0 in /anaconda3/lib/python3.7/site-packages (from spotipy) (2.22.0)\n",
      "Requirement already satisfied: six>=1.10.0 in /anaconda3/lib/python3.7/site-packages (from spotipy) (1.12.0)\n",
      "Requirement already satisfied: chardet<3.1.0,>=3.0.2 in /anaconda3/lib/python3.7/site-packages (from requests>=2.20.0->spotipy) (3.0.4)\n",
      "Requirement already satisfied: idna<2.9,>=2.5 in /anaconda3/lib/python3.7/site-packages (from requests>=2.20.0->spotipy) (2.8)\n",
      "Requirement already satisfied: urllib3!=1.25.0,!=1.25.1,<1.26,>=1.21.1 in /anaconda3/lib/python3.7/site-packages (from requests>=2.20.0->spotipy) (1.24.2)\n",
      "Requirement already satisfied: certifi>=2017.4.17 in /anaconda3/lib/python3.7/site-packages (from requests>=2.20.0->spotipy) (2019.11.28)\n"
     ]
    }
   ],
   "source": [
    "!pip install spotipy"
   ]
  },
  {
   "cell_type": "code",
   "execution_count": 2,
   "metadata": {},
   "outputs": [],
   "source": [
    "import matplotlib.pyplot as plt"
   ]
  },
  {
   "cell_type": "code",
   "execution_count": 3,
   "metadata": {},
   "outputs": [],
   "source": [
    "import spotipy\n",
    "from spotipy.oauth2 import SpotifyClientCredentials\n",
    "cid = 'f6f537de83784ff598bbf6f8d7bc5237'\n",
    "secret = 'cf96af9e5ccd42399f8a11f58c7a873b'\n",
    "client_credentials_manager = SpotifyClientCredentials(client_id=cid, client_secret=secret)\n",
    "sp = spotipy.Spotify(client_credentials_manager=client_credentials_manager)"
   ]
  },
  {
   "cell_type": "code",
   "execution_count": 4,
   "metadata": {},
   "outputs": [],
   "source": [
    "artist_name = []\n",
    "track_name = []\n",
    "popularity = []\n",
    "track_id = []\n",
    "duration_ms = []\n",
    "key = []\n",
    "time_signature = []\n",
    "acousticness = []\n",
    "danceability = []\n",
    "energy = []\n",
    "instrumentalness = []\n",
    "liveness = []\n",
    "loudness = []\n",
    "speechiness = []\n",
    "valence = []\n",
    "tempo = []\n",
    "#duration_ms\" : 255349,\n",
    "#   \"key\" : 5,\n",
    "#   \"mode\" : 0,\n",
    "#   \"time_signature\" : 4,\n",
    "#   \"acousticness\" : 0.514,\n",
    "#   \"danceability\" : 0.735,\n",
    "#   \"energy\" : 0.578,\n",
    "#   \"instrumentalness\" : 0.0902,\n",
    "#   \"liveness\" : 0.159,\n",
    "#   \"loudness\" : -11.840,\n",
    "#   \"speechiness\" : 0.0461,\n",
    "#   \"valence\" : 0.624,\n",
    "#   \"tempo\" : 98.002,\n",
    "\n",
    "\n",
    "# #list multiple different features and append them\n",
    "# for i in range(0,1000,50):\n",
    "#     track_results = sp.search(q='year:2020', type='track', limit=50,offset=i)\n",
    "#     for i, t in enumerate(track_results['tracks']['items']):\n",
    "#         artist_name.append(t['artists'][0]['name'])\n",
    "#         track_name.append(t['name'])\n",
    "#         track_id.append(t['id'])\n",
    "#         popularity.append(t['popularity'])\n",
    "\n",
    "      "
   ]
  },
  {
   "cell_type": "code",
   "execution_count": 5,
   "metadata": {},
   "outputs": [
    {
     "name": "stdout",
     "output_type": "stream",
     "text": [
      "Time to run this code (in seconds): 6.274326918\n"
     ]
    }
   ],
   "source": [
    "import timeit\n",
    "start = timeit.default_timer()\n",
    "\n",
    "# create empty lists where the results are going to be stored\n",
    "artist_name = []\n",
    "track_name = []\n",
    "popularity = []\n",
    "track_id = []\n",
    "\n",
    "for i in range(0,1000,50):\n",
    "    track_results = sp.search(q='year:2020', type='track', limit=50,offset=i)\n",
    "    for i, t in enumerate(track_results['tracks']['items']):\n",
    "        artist_name.append(t['artists'][0]['name'])\n",
    "        track_name.append(t['name'])\n",
    "        track_id.append(t['id'])\n",
    "        popularity.append(t['popularity'])\n",
    "stop = timeit.default_timer()\n",
    "print ('Time to run this code (in seconds):', stop - start)"
   ]
  },
  {
   "cell_type": "code",
   "execution_count": 6,
   "metadata": {},
   "outputs": [
    {
     "name": "stdout",
     "output_type": "stream",
     "text": [
      "(1000, 4)\n"
     ]
    },
    {
     "data": {
      "text/html": [
       "<div>\n",
       "<style scoped>\n",
       "    .dataframe tbody tr th:only-of-type {\n",
       "        vertical-align: middle;\n",
       "    }\n",
       "\n",
       "    .dataframe tbody tr th {\n",
       "        vertical-align: top;\n",
       "    }\n",
       "\n",
       "    .dataframe thead th {\n",
       "        text-align: right;\n",
       "    }\n",
       "</style>\n",
       "<table border=\"1\" class=\"dataframe\">\n",
       "  <thead>\n",
       "    <tr style=\"text-align: right;\">\n",
       "      <th></th>\n",
       "      <th>artist_name</th>\n",
       "      <th>track_name</th>\n",
       "      <th>track_id</th>\n",
       "      <th>popularity</th>\n",
       "    </tr>\n",
       "  </thead>\n",
       "  <tbody>\n",
       "    <tr>\n",
       "      <th>0</th>\n",
       "      <td>Cardi B</td>\n",
       "      <td>WAP (feat. Megan Thee Stallion)</td>\n",
       "      <td>4Oun2ylbjFKMPTiaSbbCih</td>\n",
       "      <td>98</td>\n",
       "    </tr>\n",
       "    <tr>\n",
       "      <th>1</th>\n",
       "      <td>24kGoldn</td>\n",
       "      <td>Mood (feat. iann dior)</td>\n",
       "      <td>3tjFYV6RSFtuktYl3ZtYcq</td>\n",
       "      <td>100</td>\n",
       "    </tr>\n",
       "    <tr>\n",
       "      <th>2</th>\n",
       "      <td>Drake</td>\n",
       "      <td>Laugh Now Cry Later (feat. Lil Durk)</td>\n",
       "      <td>2SAqBLGA283SUiwJ3xOUVI</td>\n",
       "      <td>95</td>\n",
       "    </tr>\n",
       "    <tr>\n",
       "      <th>3</th>\n",
       "      <td>Pop Smoke</td>\n",
       "      <td>For The Night (feat. Lil Baby &amp; DaBaby)</td>\n",
       "      <td>0PvFJmanyNQMseIFrU708S</td>\n",
       "      <td>95</td>\n",
       "    </tr>\n",
       "    <tr>\n",
       "      <th>4</th>\n",
       "      <td>Internet Money</td>\n",
       "      <td>Lemonade</td>\n",
       "      <td>02kDW379Yfd5PzW5A6vuGt</td>\n",
       "      <td>94</td>\n",
       "    </tr>\n",
       "  </tbody>\n",
       "</table>\n",
       "</div>"
      ],
      "text/plain": [
       "      artist_name                               track_name  \\\n",
       "0         Cardi B          WAP (feat. Megan Thee Stallion)   \n",
       "1        24kGoldn                   Mood (feat. iann dior)   \n",
       "2           Drake     Laugh Now Cry Later (feat. Lil Durk)   \n",
       "3       Pop Smoke  For The Night (feat. Lil Baby & DaBaby)   \n",
       "4  Internet Money                                 Lemonade   \n",
       "\n",
       "                 track_id  popularity  \n",
       "0  4Oun2ylbjFKMPTiaSbbCih          98  \n",
       "1  3tjFYV6RSFtuktYl3ZtYcq         100  \n",
       "2  2SAqBLGA283SUiwJ3xOUVI          95  \n",
       "3  0PvFJmanyNQMseIFrU708S          95  \n",
       "4  02kDW379Yfd5PzW5A6vuGt          94  "
      ]
     },
     "execution_count": 6,
     "metadata": {},
     "output_type": "execute_result"
    }
   ],
   "source": [
    "import pandas as pd\n",
    "\n",
    "df_tracks = pd.DataFrame({'artist_name':artist_name,'track_name':track_name,'track_id':track_id,'popularity':popularity})\n",
    "print(df_tracks.shape)\n",
    "df_tracks.head()"
   ]
  },
  {
   "cell_type": "code",
   "execution_count": 7,
   "metadata": {},
   "outputs": [
    {
     "name": "stdout",
     "output_type": "stream",
     "text": [
      "Number of tracks where no audio features were available: 0\n",
      "Time to run this code (in seconds): 1.249665234\n"
     ]
    }
   ],
   "source": [
    "start = timeit.default_timer()\n",
    "\n",
    "# empty list, batchsize and the counter for None results\n",
    "rows = []\n",
    "batchsize = 100\n",
    "None_counter = 0\n",
    "\n",
    "for i in range(0,len(df_tracks['track_id']),batchsize):\n",
    "    batch = df_tracks['track_id'][i:i+batchsize]\n",
    "    feature_results = sp.audio_features(batch)\n",
    "    for i, t in enumerate(feature_results):\n",
    "        if t == None:\n",
    "            None_counter = None_counter + 1\n",
    "        else:\n",
    "            rows.append(t)\n",
    "            \n",
    "print('Number of tracks where no audio features were available:',None_counter)\n",
    "\n",
    "stop = timeit.default_timer()\n",
    "print ('Time to run this code (in seconds):',stop - start)"
   ]
  },
  {
   "cell_type": "code",
   "execution_count": 8,
   "metadata": {},
   "outputs": [
    {
     "name": "stdout",
     "output_type": "stream",
     "text": [
      "Shape of the dataset: (1000, 18)\n"
     ]
    },
    {
     "data": {
      "text/html": [
       "<div>\n",
       "<style scoped>\n",
       "    .dataframe tbody tr th:only-of-type {\n",
       "        vertical-align: middle;\n",
       "    }\n",
       "\n",
       "    .dataframe tbody tr th {\n",
       "        vertical-align: top;\n",
       "    }\n",
       "\n",
       "    .dataframe thead th {\n",
       "        text-align: right;\n",
       "    }\n",
       "</style>\n",
       "<table border=\"1\" class=\"dataframe\">\n",
       "  <thead>\n",
       "    <tr style=\"text-align: right;\">\n",
       "      <th></th>\n",
       "      <th>acousticness</th>\n",
       "      <th>analysis_url</th>\n",
       "      <th>danceability</th>\n",
       "      <th>duration_ms</th>\n",
       "      <th>energy</th>\n",
       "      <th>id</th>\n",
       "      <th>instrumentalness</th>\n",
       "      <th>key</th>\n",
       "      <th>liveness</th>\n",
       "      <th>loudness</th>\n",
       "      <th>mode</th>\n",
       "      <th>speechiness</th>\n",
       "      <th>tempo</th>\n",
       "      <th>time_signature</th>\n",
       "      <th>track_href</th>\n",
       "      <th>type</th>\n",
       "      <th>uri</th>\n",
       "      <th>valence</th>\n",
       "    </tr>\n",
       "  </thead>\n",
       "  <tbody>\n",
       "    <tr>\n",
       "      <th>0</th>\n",
       "      <td>0.0194</td>\n",
       "      <td>https://api.spotify.com/v1/audio-analysis/4Oun...</td>\n",
       "      <td>0.935</td>\n",
       "      <td>187541</td>\n",
       "      <td>0.454</td>\n",
       "      <td>4Oun2ylbjFKMPTiaSbbCih</td>\n",
       "      <td>0.000000</td>\n",
       "      <td>1</td>\n",
       "      <td>0.0824</td>\n",
       "      <td>-7.509</td>\n",
       "      <td>1</td>\n",
       "      <td>0.3750</td>\n",
       "      <td>133.073</td>\n",
       "      <td>4</td>\n",
       "      <td>https://api.spotify.com/v1/tracks/4Oun2ylbjFKM...</td>\n",
       "      <td>audio_features</td>\n",
       "      <td>spotify:track:4Oun2ylbjFKMPTiaSbbCih</td>\n",
       "      <td>0.357</td>\n",
       "    </tr>\n",
       "    <tr>\n",
       "      <th>1</th>\n",
       "      <td>0.2210</td>\n",
       "      <td>https://api.spotify.com/v1/audio-analysis/3tjF...</td>\n",
       "      <td>0.700</td>\n",
       "      <td>140526</td>\n",
       "      <td>0.722</td>\n",
       "      <td>3tjFYV6RSFtuktYl3ZtYcq</td>\n",
       "      <td>0.000000</td>\n",
       "      <td>7</td>\n",
       "      <td>0.2720</td>\n",
       "      <td>-3.558</td>\n",
       "      <td>0</td>\n",
       "      <td>0.0369</td>\n",
       "      <td>90.989</td>\n",
       "      <td>4</td>\n",
       "      <td>https://api.spotify.com/v1/tracks/3tjFYV6RSFtu...</td>\n",
       "      <td>audio_features</td>\n",
       "      <td>spotify:track:3tjFYV6RSFtuktYl3ZtYcq</td>\n",
       "      <td>0.756</td>\n",
       "    </tr>\n",
       "    <tr>\n",
       "      <th>2</th>\n",
       "      <td>0.2440</td>\n",
       "      <td>https://api.spotify.com/v1/audio-analysis/2SAq...</td>\n",
       "      <td>0.761</td>\n",
       "      <td>261493</td>\n",
       "      <td>0.518</td>\n",
       "      <td>2SAqBLGA283SUiwJ3xOUVI</td>\n",
       "      <td>0.000035</td>\n",
       "      <td>0</td>\n",
       "      <td>0.1070</td>\n",
       "      <td>-8.871</td>\n",
       "      <td>1</td>\n",
       "      <td>0.1340</td>\n",
       "      <td>133.976</td>\n",
       "      <td>4</td>\n",
       "      <td>https://api.spotify.com/v1/tracks/2SAqBLGA283S...</td>\n",
       "      <td>audio_features</td>\n",
       "      <td>spotify:track:2SAqBLGA283SUiwJ3xOUVI</td>\n",
       "      <td>0.522</td>\n",
       "    </tr>\n",
       "    <tr>\n",
       "      <th>3</th>\n",
       "      <td>0.1140</td>\n",
       "      <td>https://api.spotify.com/v1/audio-analysis/0PvF...</td>\n",
       "      <td>0.823</td>\n",
       "      <td>190476</td>\n",
       "      <td>0.586</td>\n",
       "      <td>0PvFJmanyNQMseIFrU708S</td>\n",
       "      <td>0.000000</td>\n",
       "      <td>6</td>\n",
       "      <td>0.1930</td>\n",
       "      <td>-6.606</td>\n",
       "      <td>0</td>\n",
       "      <td>0.2000</td>\n",
       "      <td>125.971</td>\n",
       "      <td>4</td>\n",
       "      <td>https://api.spotify.com/v1/tracks/0PvFJmanyNQM...</td>\n",
       "      <td>audio_features</td>\n",
       "      <td>spotify:track:0PvFJmanyNQMseIFrU708S</td>\n",
       "      <td>0.347</td>\n",
       "    </tr>\n",
       "    <tr>\n",
       "      <th>4</th>\n",
       "      <td>0.2560</td>\n",
       "      <td>https://api.spotify.com/v1/audio-analysis/02kD...</td>\n",
       "      <td>0.799</td>\n",
       "      <td>195429</td>\n",
       "      <td>0.660</td>\n",
       "      <td>02kDW379Yfd5PzW5A6vuGt</td>\n",
       "      <td>0.000000</td>\n",
       "      <td>1</td>\n",
       "      <td>0.1110</td>\n",
       "      <td>-6.153</td>\n",
       "      <td>0</td>\n",
       "      <td>0.0790</td>\n",
       "      <td>140.040</td>\n",
       "      <td>4</td>\n",
       "      <td>https://api.spotify.com/v1/tracks/02kDW379Yfd5...</td>\n",
       "      <td>audio_features</td>\n",
       "      <td>spotify:track:02kDW379Yfd5PzW5A6vuGt</td>\n",
       "      <td>0.471</td>\n",
       "    </tr>\n",
       "  </tbody>\n",
       "</table>\n",
       "</div>"
      ],
      "text/plain": [
       "   acousticness                                       analysis_url  \\\n",
       "0        0.0194  https://api.spotify.com/v1/audio-analysis/4Oun...   \n",
       "1        0.2210  https://api.spotify.com/v1/audio-analysis/3tjF...   \n",
       "2        0.2440  https://api.spotify.com/v1/audio-analysis/2SAq...   \n",
       "3        0.1140  https://api.spotify.com/v1/audio-analysis/0PvF...   \n",
       "4        0.2560  https://api.spotify.com/v1/audio-analysis/02kD...   \n",
       "\n",
       "   danceability  duration_ms  energy                      id  \\\n",
       "0         0.935       187541   0.454  4Oun2ylbjFKMPTiaSbbCih   \n",
       "1         0.700       140526   0.722  3tjFYV6RSFtuktYl3ZtYcq   \n",
       "2         0.761       261493   0.518  2SAqBLGA283SUiwJ3xOUVI   \n",
       "3         0.823       190476   0.586  0PvFJmanyNQMseIFrU708S   \n",
       "4         0.799       195429   0.660  02kDW379Yfd5PzW5A6vuGt   \n",
       "\n",
       "   instrumentalness  key  liveness  loudness  mode  speechiness    tempo  \\\n",
       "0          0.000000    1    0.0824    -7.509     1       0.3750  133.073   \n",
       "1          0.000000    7    0.2720    -3.558     0       0.0369   90.989   \n",
       "2          0.000035    0    0.1070    -8.871     1       0.1340  133.976   \n",
       "3          0.000000    6    0.1930    -6.606     0       0.2000  125.971   \n",
       "4          0.000000    1    0.1110    -6.153     0       0.0790  140.040   \n",
       "\n",
       "   time_signature                                         track_href  \\\n",
       "0               4  https://api.spotify.com/v1/tracks/4Oun2ylbjFKM...   \n",
       "1               4  https://api.spotify.com/v1/tracks/3tjFYV6RSFtu...   \n",
       "2               4  https://api.spotify.com/v1/tracks/2SAqBLGA283S...   \n",
       "3               4  https://api.spotify.com/v1/tracks/0PvFJmanyNQM...   \n",
       "4               4  https://api.spotify.com/v1/tracks/02kDW379Yfd5...   \n",
       "\n",
       "             type                                   uri  valence  \n",
       "0  audio_features  spotify:track:4Oun2ylbjFKMPTiaSbbCih    0.357  \n",
       "1  audio_features  spotify:track:3tjFYV6RSFtuktYl3ZtYcq    0.756  \n",
       "2  audio_features  spotify:track:2SAqBLGA283SUiwJ3xOUVI    0.522  \n",
       "3  audio_features  spotify:track:0PvFJmanyNQMseIFrU708S    0.347  \n",
       "4  audio_features  spotify:track:02kDW379Yfd5PzW5A6vuGt    0.471  "
      ]
     },
     "execution_count": 8,
     "metadata": {},
     "output_type": "execute_result"
    }
   ],
   "source": [
    "df_audio_features = pd.DataFrame.from_dict(rows,orient='columns')\n",
    "print(\"Shape of the dataset:\", df_audio_features.shape)\n",
    "df_audio_features.head()"
   ]
  },
  {
   "cell_type": "code",
   "execution_count": 9,
   "metadata": {},
   "outputs": [],
   "source": [
    "full_df = df_tracks.join(df_audio_features)"
   ]
  },
  {
   "cell_type": "code",
   "execution_count": 10,
   "metadata": {},
   "outputs": [
    {
     "data": {
      "text/html": [
       "<div>\n",
       "<style scoped>\n",
       "    .dataframe tbody tr th:only-of-type {\n",
       "        vertical-align: middle;\n",
       "    }\n",
       "\n",
       "    .dataframe tbody tr th {\n",
       "        vertical-align: top;\n",
       "    }\n",
       "\n",
       "    .dataframe thead th {\n",
       "        text-align: right;\n",
       "    }\n",
       "</style>\n",
       "<table border=\"1\" class=\"dataframe\">\n",
       "  <thead>\n",
       "    <tr style=\"text-align: right;\">\n",
       "      <th></th>\n",
       "      <th>artist_name</th>\n",
       "      <th>track_name</th>\n",
       "      <th>track_id</th>\n",
       "      <th>popularity</th>\n",
       "      <th>acousticness</th>\n",
       "      <th>analysis_url</th>\n",
       "      <th>danceability</th>\n",
       "      <th>duration_ms</th>\n",
       "      <th>energy</th>\n",
       "      <th>id</th>\n",
       "      <th>...</th>\n",
       "      <th>liveness</th>\n",
       "      <th>loudness</th>\n",
       "      <th>mode</th>\n",
       "      <th>speechiness</th>\n",
       "      <th>tempo</th>\n",
       "      <th>time_signature</th>\n",
       "      <th>track_href</th>\n",
       "      <th>type</th>\n",
       "      <th>uri</th>\n",
       "      <th>valence</th>\n",
       "    </tr>\n",
       "  </thead>\n",
       "  <tbody>\n",
       "    <tr>\n",
       "      <th>0</th>\n",
       "      <td>Cardi B</td>\n",
       "      <td>WAP (feat. Megan Thee Stallion)</td>\n",
       "      <td>4Oun2ylbjFKMPTiaSbbCih</td>\n",
       "      <td>98</td>\n",
       "      <td>0.0194</td>\n",
       "      <td>https://api.spotify.com/v1/audio-analysis/4Oun...</td>\n",
       "      <td>0.935</td>\n",
       "      <td>187541</td>\n",
       "      <td>0.454</td>\n",
       "      <td>4Oun2ylbjFKMPTiaSbbCih</td>\n",
       "      <td>...</td>\n",
       "      <td>0.0824</td>\n",
       "      <td>-7.509</td>\n",
       "      <td>1</td>\n",
       "      <td>0.3750</td>\n",
       "      <td>133.073</td>\n",
       "      <td>4</td>\n",
       "      <td>https://api.spotify.com/v1/tracks/4Oun2ylbjFKM...</td>\n",
       "      <td>audio_features</td>\n",
       "      <td>spotify:track:4Oun2ylbjFKMPTiaSbbCih</td>\n",
       "      <td>0.357</td>\n",
       "    </tr>\n",
       "    <tr>\n",
       "      <th>1</th>\n",
       "      <td>24kGoldn</td>\n",
       "      <td>Mood (feat. iann dior)</td>\n",
       "      <td>3tjFYV6RSFtuktYl3ZtYcq</td>\n",
       "      <td>100</td>\n",
       "      <td>0.2210</td>\n",
       "      <td>https://api.spotify.com/v1/audio-analysis/3tjF...</td>\n",
       "      <td>0.700</td>\n",
       "      <td>140526</td>\n",
       "      <td>0.722</td>\n",
       "      <td>3tjFYV6RSFtuktYl3ZtYcq</td>\n",
       "      <td>...</td>\n",
       "      <td>0.2720</td>\n",
       "      <td>-3.558</td>\n",
       "      <td>0</td>\n",
       "      <td>0.0369</td>\n",
       "      <td>90.989</td>\n",
       "      <td>4</td>\n",
       "      <td>https://api.spotify.com/v1/tracks/3tjFYV6RSFtu...</td>\n",
       "      <td>audio_features</td>\n",
       "      <td>spotify:track:3tjFYV6RSFtuktYl3ZtYcq</td>\n",
       "      <td>0.756</td>\n",
       "    </tr>\n",
       "    <tr>\n",
       "      <th>2</th>\n",
       "      <td>Drake</td>\n",
       "      <td>Laugh Now Cry Later (feat. Lil Durk)</td>\n",
       "      <td>2SAqBLGA283SUiwJ3xOUVI</td>\n",
       "      <td>95</td>\n",
       "      <td>0.2440</td>\n",
       "      <td>https://api.spotify.com/v1/audio-analysis/2SAq...</td>\n",
       "      <td>0.761</td>\n",
       "      <td>261493</td>\n",
       "      <td>0.518</td>\n",
       "      <td>2SAqBLGA283SUiwJ3xOUVI</td>\n",
       "      <td>...</td>\n",
       "      <td>0.1070</td>\n",
       "      <td>-8.871</td>\n",
       "      <td>1</td>\n",
       "      <td>0.1340</td>\n",
       "      <td>133.976</td>\n",
       "      <td>4</td>\n",
       "      <td>https://api.spotify.com/v1/tracks/2SAqBLGA283S...</td>\n",
       "      <td>audio_features</td>\n",
       "      <td>spotify:track:2SAqBLGA283SUiwJ3xOUVI</td>\n",
       "      <td>0.522</td>\n",
       "    </tr>\n",
       "    <tr>\n",
       "      <th>3</th>\n",
       "      <td>Pop Smoke</td>\n",
       "      <td>For The Night (feat. Lil Baby &amp; DaBaby)</td>\n",
       "      <td>0PvFJmanyNQMseIFrU708S</td>\n",
       "      <td>95</td>\n",
       "      <td>0.1140</td>\n",
       "      <td>https://api.spotify.com/v1/audio-analysis/0PvF...</td>\n",
       "      <td>0.823</td>\n",
       "      <td>190476</td>\n",
       "      <td>0.586</td>\n",
       "      <td>0PvFJmanyNQMseIFrU708S</td>\n",
       "      <td>...</td>\n",
       "      <td>0.1930</td>\n",
       "      <td>-6.606</td>\n",
       "      <td>0</td>\n",
       "      <td>0.2000</td>\n",
       "      <td>125.971</td>\n",
       "      <td>4</td>\n",
       "      <td>https://api.spotify.com/v1/tracks/0PvFJmanyNQM...</td>\n",
       "      <td>audio_features</td>\n",
       "      <td>spotify:track:0PvFJmanyNQMseIFrU708S</td>\n",
       "      <td>0.347</td>\n",
       "    </tr>\n",
       "    <tr>\n",
       "      <th>4</th>\n",
       "      <td>Internet Money</td>\n",
       "      <td>Lemonade</td>\n",
       "      <td>02kDW379Yfd5PzW5A6vuGt</td>\n",
       "      <td>94</td>\n",
       "      <td>0.2560</td>\n",
       "      <td>https://api.spotify.com/v1/audio-analysis/02kD...</td>\n",
       "      <td>0.799</td>\n",
       "      <td>195429</td>\n",
       "      <td>0.660</td>\n",
       "      <td>02kDW379Yfd5PzW5A6vuGt</td>\n",
       "      <td>...</td>\n",
       "      <td>0.1110</td>\n",
       "      <td>-6.153</td>\n",
       "      <td>0</td>\n",
       "      <td>0.0790</td>\n",
       "      <td>140.040</td>\n",
       "      <td>4</td>\n",
       "      <td>https://api.spotify.com/v1/tracks/02kDW379Yfd5...</td>\n",
       "      <td>audio_features</td>\n",
       "      <td>spotify:track:02kDW379Yfd5PzW5A6vuGt</td>\n",
       "      <td>0.471</td>\n",
       "    </tr>\n",
       "  </tbody>\n",
       "</table>\n",
       "<p>5 rows × 22 columns</p>\n",
       "</div>"
      ],
      "text/plain": [
       "      artist_name                               track_name  \\\n",
       "0         Cardi B          WAP (feat. Megan Thee Stallion)   \n",
       "1        24kGoldn                   Mood (feat. iann dior)   \n",
       "2           Drake     Laugh Now Cry Later (feat. Lil Durk)   \n",
       "3       Pop Smoke  For The Night (feat. Lil Baby & DaBaby)   \n",
       "4  Internet Money                                 Lemonade   \n",
       "\n",
       "                 track_id  popularity  acousticness  \\\n",
       "0  4Oun2ylbjFKMPTiaSbbCih          98        0.0194   \n",
       "1  3tjFYV6RSFtuktYl3ZtYcq         100        0.2210   \n",
       "2  2SAqBLGA283SUiwJ3xOUVI          95        0.2440   \n",
       "3  0PvFJmanyNQMseIFrU708S          95        0.1140   \n",
       "4  02kDW379Yfd5PzW5A6vuGt          94        0.2560   \n",
       "\n",
       "                                        analysis_url  danceability  \\\n",
       "0  https://api.spotify.com/v1/audio-analysis/4Oun...         0.935   \n",
       "1  https://api.spotify.com/v1/audio-analysis/3tjF...         0.700   \n",
       "2  https://api.spotify.com/v1/audio-analysis/2SAq...         0.761   \n",
       "3  https://api.spotify.com/v1/audio-analysis/0PvF...         0.823   \n",
       "4  https://api.spotify.com/v1/audio-analysis/02kD...         0.799   \n",
       "\n",
       "   duration_ms  energy                      id  ...  liveness  loudness  mode  \\\n",
       "0       187541   0.454  4Oun2ylbjFKMPTiaSbbCih  ...    0.0824    -7.509     1   \n",
       "1       140526   0.722  3tjFYV6RSFtuktYl3ZtYcq  ...    0.2720    -3.558     0   \n",
       "2       261493   0.518  2SAqBLGA283SUiwJ3xOUVI  ...    0.1070    -8.871     1   \n",
       "3       190476   0.586  0PvFJmanyNQMseIFrU708S  ...    0.1930    -6.606     0   \n",
       "4       195429   0.660  02kDW379Yfd5PzW5A6vuGt  ...    0.1110    -6.153     0   \n",
       "\n",
       "   speechiness    tempo  time_signature  \\\n",
       "0       0.3750  133.073               4   \n",
       "1       0.0369   90.989               4   \n",
       "2       0.1340  133.976               4   \n",
       "3       0.2000  125.971               4   \n",
       "4       0.0790  140.040               4   \n",
       "\n",
       "                                          track_href            type  \\\n",
       "0  https://api.spotify.com/v1/tracks/4Oun2ylbjFKM...  audio_features   \n",
       "1  https://api.spotify.com/v1/tracks/3tjFYV6RSFtu...  audio_features   \n",
       "2  https://api.spotify.com/v1/tracks/2SAqBLGA283S...  audio_features   \n",
       "3  https://api.spotify.com/v1/tracks/0PvFJmanyNQM...  audio_features   \n",
       "4  https://api.spotify.com/v1/tracks/02kDW379Yfd5...  audio_features   \n",
       "\n",
       "                                    uri valence  \n",
       "0  spotify:track:4Oun2ylbjFKMPTiaSbbCih   0.357  \n",
       "1  spotify:track:3tjFYV6RSFtuktYl3ZtYcq   0.756  \n",
       "2  spotify:track:2SAqBLGA283SUiwJ3xOUVI   0.522  \n",
       "3  spotify:track:0PvFJmanyNQMseIFrU708S   0.347  \n",
       "4  spotify:track:02kDW379Yfd5PzW5A6vuGt   0.471  \n",
       "\n",
       "[5 rows x 22 columns]"
      ]
     },
     "execution_count": 10,
     "metadata": {},
     "output_type": "execute_result"
    }
   ],
   "source": [
    "full_df.head()"
   ]
  },
  {
   "cell_type": "code",
   "execution_count": 11,
   "metadata": {},
   "outputs": [
    {
     "data": {
      "text/plain": [
       "4"
      ]
     },
     "execution_count": 11,
     "metadata": {},
     "output_type": "execute_result"
    }
   ],
   "source": [
    "full_df['time_signature'].nunique()"
   ]
  },
  {
   "cell_type": "code",
   "execution_count": 12,
   "metadata": {},
   "outputs": [
    {
     "data": {
      "text/plain": [
       "Index(['artist_name', 'track_name', 'track_id', 'popularity', 'acousticness',\n",
       "       'analysis_url', 'danceability', 'duration_ms', 'energy', 'id',\n",
       "       'instrumentalness', 'key', 'liveness', 'loudness', 'mode',\n",
       "       'speechiness', 'tempo', 'time_signature', 'track_href', 'type', 'uri',\n",
       "       'valence'],\n",
       "      dtype='object')"
      ]
     },
     "execution_count": 12,
     "metadata": {},
     "output_type": "execute_result"
    }
   ],
   "source": [
    "full_df.columns"
   ]
  },
  {
   "cell_type": "code",
   "execution_count": 13,
   "metadata": {},
   "outputs": [
    {
     "data": {
      "text/plain": [
       "<matplotlib.axes._subplots.AxesSubplot at 0x115ea0438>"
      ]
     },
     "execution_count": 13,
     "metadata": {},
     "output_type": "execute_result"
    },
    {
     "data": {
      "image/png": "[encoded data removed]",
      "text/plain": [
       "<Figure size 432x288 with 1 Axes>"
      ]
     },
     "metadata": {
      "needs_background": "light"
     },
     "output_type": "display_data"
    }
   ],
   "source": [
    "full_df['valence'].hist()"
   ]
  },
  {
   "cell_type": "code",
   "execution_count": 25,
   "metadata": {},
   "outputs": [],
   "source": [
    "full_df = full_df.drop(['analysis_url','track_href','uri','id'],axis=1)"
   ]
  },
  {
   "cell_type": "code",
   "execution_count": 26,
   "metadata": {},
   "outputs": [
    {
     "data": {
      "text/html": [
       "<div>\n",
       "<style scoped>\n",
       "    .dataframe tbody tr th:only-of-type {\n",
       "        vertical-align: middle;\n",
       "    }\n",
       "\n",
       "    .dataframe tbody tr th {\n",
       "        vertical-align: top;\n",
       "    }\n",
       "\n",
       "    .dataframe thead th {\n",
       "        text-align: right;\n",
       "    }\n",
       "</style>\n",
       "<table border=\"1\" class=\"dataframe\">\n",
       "  <thead>\n",
       "    <tr style=\"text-align: right;\">\n",
       "      <th></th>\n",
       "      <th>artist_name</th>\n",
       "      <th>track_name</th>\n",
       "      <th>track_id</th>\n",
       "      <th>popularity</th>\n",
       "      <th>acousticness</th>\n",
       "      <th>danceability</th>\n",
       "      <th>duration_ms</th>\n",
       "      <th>energy</th>\n",
       "      <th>instrumentalness</th>\n",
       "      <th>key</th>\n",
       "      <th>liveness</th>\n",
       "      <th>loudness</th>\n",
       "      <th>mode</th>\n",
       "      <th>speechiness</th>\n",
       "      <th>tempo</th>\n",
       "      <th>time_signature</th>\n",
       "      <th>type</th>\n",
       "      <th>valence</th>\n",
       "    </tr>\n",
       "  </thead>\n",
       "  <tbody>\n",
       "    <tr>\n",
       "      <th>0</th>\n",
       "      <td>Cardi B</td>\n",
       "      <td>WAP (feat. Megan Thee Stallion)</td>\n",
       "      <td>4Oun2ylbjFKMPTiaSbbCih</td>\n",
       "      <td>98</td>\n",
       "      <td>0.0194</td>\n",
       "      <td>0.935</td>\n",
       "      <td>187541</td>\n",
       "      <td>0.454</td>\n",
       "      <td>0.000000</td>\n",
       "      <td>1</td>\n",
       "      <td>0.0824</td>\n",
       "      <td>-7.509</td>\n",
       "      <td>1</td>\n",
       "      <td>0.3750</td>\n",
       "      <td>133.073</td>\n",
       "      <td>4</td>\n",
       "      <td>audio_features</td>\n",
       "      <td>0.357</td>\n",
       "    </tr>\n",
       "    <tr>\n",
       "      <th>1</th>\n",
       "      <td>24kGoldn</td>\n",
       "      <td>Mood (feat. iann dior)</td>\n",
       "      <td>3tjFYV6RSFtuktYl3ZtYcq</td>\n",
       "      <td>100</td>\n",
       "      <td>0.2210</td>\n",
       "      <td>0.700</td>\n",
       "      <td>140526</td>\n",
       "      <td>0.722</td>\n",
       "      <td>0.000000</td>\n",
       "      <td>7</td>\n",
       "      <td>0.2720</td>\n",
       "      <td>-3.558</td>\n",
       "      <td>0</td>\n",
       "      <td>0.0369</td>\n",
       "      <td>90.989</td>\n",
       "      <td>4</td>\n",
       "      <td>audio_features</td>\n",
       "      <td>0.756</td>\n",
       "    </tr>\n",
       "    <tr>\n",
       "      <th>2</th>\n",
       "      <td>Drake</td>\n",
       "      <td>Laugh Now Cry Later (feat. Lil Durk)</td>\n",
       "      <td>2SAqBLGA283SUiwJ3xOUVI</td>\n",
       "      <td>95</td>\n",
       "      <td>0.2440</td>\n",
       "      <td>0.761</td>\n",
       "      <td>261493</td>\n",
       "      <td>0.518</td>\n",
       "      <td>0.000035</td>\n",
       "      <td>0</td>\n",
       "      <td>0.1070</td>\n",
       "      <td>-8.871</td>\n",
       "      <td>1</td>\n",
       "      <td>0.1340</td>\n",
       "      <td>133.976</td>\n",
       "      <td>4</td>\n",
       "      <td>audio_features</td>\n",
       "      <td>0.522</td>\n",
       "    </tr>\n",
       "    <tr>\n",
       "      <th>3</th>\n",
       "      <td>Pop Smoke</td>\n",
       "      <td>For The Night (feat. Lil Baby &amp; DaBaby)</td>\n",
       "      <td>0PvFJmanyNQMseIFrU708S</td>\n",
       "      <td>95</td>\n",
       "      <td>0.1140</td>\n",
       "      <td>0.823</td>\n",
       "      <td>190476</td>\n",
       "      <td>0.586</td>\n",
       "      <td>0.000000</td>\n",
       "      <td>6</td>\n",
       "      <td>0.1930</td>\n",
       "      <td>-6.606</td>\n",
       "      <td>0</td>\n",
       "      <td>0.2000</td>\n",
       "      <td>125.971</td>\n",
       "      <td>4</td>\n",
       "      <td>audio_features</td>\n",
       "      <td>0.347</td>\n",
       "    </tr>\n",
       "    <tr>\n",
       "      <th>4</th>\n",
       "      <td>Internet Money</td>\n",
       "      <td>Lemonade</td>\n",
       "      <td>02kDW379Yfd5PzW5A6vuGt</td>\n",
       "      <td>94</td>\n",
       "      <td>0.2560</td>\n",
       "      <td>0.799</td>\n",
       "      <td>195429</td>\n",
       "      <td>0.660</td>\n",
       "      <td>0.000000</td>\n",
       "      <td>1</td>\n",
       "      <td>0.1110</td>\n",
       "      <td>-6.153</td>\n",
       "      <td>0</td>\n",
       "      <td>0.0790</td>\n",
       "      <td>140.040</td>\n",
       "      <td>4</td>\n",
       "      <td>audio_features</td>\n",
       "      <td>0.471</td>\n",
       "    </tr>\n",
       "  </tbody>\n",
       "</table>\n",
       "</div>"
      ],
      "text/plain": [
       "      artist_name                               track_name  \\\n",
       "0         Cardi B          WAP (feat. Megan Thee Stallion)   \n",
       "1        24kGoldn                   Mood (feat. iann dior)   \n",
       "2           Drake     Laugh Now Cry Later (feat. Lil Durk)   \n",
       "3       Pop Smoke  For The Night (feat. Lil Baby & DaBaby)   \n",
       "4  Internet Money                                 Lemonade   \n",
       "\n",
       "                 track_id  popularity  acousticness  danceability  \\\n",
       "0  4Oun2ylbjFKMPTiaSbbCih          98        0.0194         0.935   \n",
       "1  3tjFYV6RSFtuktYl3ZtYcq         100        0.2210         0.700   \n",
       "2  2SAqBLGA283SUiwJ3xOUVI          95        0.2440         0.761   \n",
       "3  0PvFJmanyNQMseIFrU708S          95        0.1140         0.823   \n",
       "4  02kDW379Yfd5PzW5A6vuGt          94        0.2560         0.799   \n",
       "\n",
       "   duration_ms  energy  instrumentalness  key  liveness  loudness  mode  \\\n",
       "0       187541   0.454          0.000000    1    0.0824    -7.509     1   \n",
       "1       140526   0.722          0.000000    7    0.2720    -3.558     0   \n",
       "2       261493   0.518          0.000035    0    0.1070    -8.871     1   \n",
       "3       190476   0.586          0.000000    6    0.1930    -6.606     0   \n",
       "4       195429   0.660          0.000000    1    0.1110    -6.153     0   \n",
       "\n",
       "   speechiness    tempo  time_signature            type  valence  \n",
       "0       0.3750  133.073               4  audio_features    0.357  \n",
       "1       0.0369   90.989               4  audio_features    0.756  \n",
       "2       0.1340  133.976               4  audio_features    0.522  \n",
       "3       0.2000  125.971               4  audio_features    0.347  \n",
       "4       0.0790  140.040               4  audio_features    0.471  "
      ]
     },
     "execution_count": 26,
     "metadata": {},
     "output_type": "execute_result"
    }
   ],
   "source": [
    "full_df.head()"
   ]
  },
  {
   "cell_type": "code",
   "execution_count": null,
   "metadata": {},
   "outputs": [],
   "source": [
    "full"
   ]
  },
  {
   "cell_type": "code",
   "execution_count": null,
   "metadata": {},
   "outputs": [],
   "source": []
  },
  {
   "cell_type": "code",
   "execution_count": null,
   "metadata": {},
   "outputs": [],
   "source": []
  },
  {
   "cell_type": "code",
   "execution_count": null,
   "metadata": {},
   "outputs": [],
   "source": []
  },
  {
   "cell_type": "code",
   "execution_count": 14,
   "metadata": {},
   "outputs": [
    {
     "data": {
      "image/png": "[encoded data removed]",
      "text/plain": [
       "<Figure size 432x288 with 1 Axes>"
      ]
     },
     "metadata": {
      "needs_background": "light"
     },
     "output_type": "display_data"
    }
   ],
   "source": [
    "df_audio_features['energy'].hist()\n",
    "plt.title(' Energy Distribution');"
   ]
  },
  {
   "cell_type": "code",
   "execution_count": 15,
   "metadata": {},
   "outputs": [
    {
     "data": {
      "image/png": "[encoded data removed]",
      "text/plain": [
       "<Figure size 432x288 with 1 Axes>"
      ]
     },
     "metadata": {
      "needs_background": "light"
     },
     "output_type": "display_data"
    }
   ],
   "source": [
    "df_audio_features['danceability'].hist()\n",
    "plt.title('Danceability Distribution');"
   ]
  },
  {
   "cell_type": "code",
   "execution_count": 16,
   "metadata": {},
   "outputs": [
    {
     "data": {
      "image/png": "[encoded data removed]",
      "text/plain": [
       "<Figure size 432x288 with 1 Axes>"
      ]
     },
     "metadata": {
      "needs_background": "light"
     },
     "output_type": "display_data"
    }
   ],
   "source": [
    "df_audio_features['loudness'].hist()\n",
    "plt.title('Loudness Distribution');"
   ]
  },
  {
   "cell_type": "code",
   "execution_count": 17,
   "metadata": {},
   "outputs": [
    {
     "data": {
      "image/png": "[encoded data removed]",
      "text/plain": [
       "<Figure size 432x288 with 1 Axes>"
      ]
     },
     "metadata": {
      "needs_background": "light"
     },
     "output_type": "display_data"
    }
   ],
   "source": [
    "df_audio_features['speechiness'].hist()\n",
    "plt.title(' Speechiness Distribution');"
   ]
  },
  {
   "cell_type": "code",
   "execution_count": 18,
   "metadata": {},
   "outputs": [
    {
     "data": {
      "text/html": [
       "<div>\n",
       "<style scoped>\n",
       "    .dataframe tbody tr th:only-of-type {\n",
       "        vertical-align: middle;\n",
       "    }\n",
       "\n",
       "    .dataframe tbody tr th {\n",
       "        vertical-align: top;\n",
       "    }\n",
       "\n",
       "    .dataframe thead th {\n",
       "        text-align: right;\n",
       "    }\n",
       "</style>\n",
       "<table border=\"1\" class=\"dataframe\">\n",
       "  <thead>\n",
       "    <tr style=\"text-align: right;\">\n",
       "      <th></th>\n",
       "      <th>artist_name</th>\n",
       "      <th>track_name</th>\n",
       "      <th>track_id</th>\n",
       "      <th>popularity</th>\n",
       "    </tr>\n",
       "  </thead>\n",
       "  <tbody>\n",
       "    <tr>\n",
       "      <th>0</th>\n",
       "      <td>Cardi B</td>\n",
       "      <td>WAP (feat. Megan Thee Stallion)</td>\n",
       "      <td>4Oun2ylbjFKMPTiaSbbCih</td>\n",
       "      <td>98</td>\n",
       "    </tr>\n",
       "    <tr>\n",
       "      <th>1</th>\n",
       "      <td>24kGoldn</td>\n",
       "      <td>Mood (feat. iann dior)</td>\n",
       "      <td>3tjFYV6RSFtuktYl3ZtYcq</td>\n",
       "      <td>100</td>\n",
       "    </tr>\n",
       "    <tr>\n",
       "      <th>2</th>\n",
       "      <td>Drake</td>\n",
       "      <td>Laugh Now Cry Later (feat. Lil Durk)</td>\n",
       "      <td>2SAqBLGA283SUiwJ3xOUVI</td>\n",
       "      <td>95</td>\n",
       "    </tr>\n",
       "    <tr>\n",
       "      <th>3</th>\n",
       "      <td>Pop Smoke</td>\n",
       "      <td>For The Night (feat. Lil Baby &amp; DaBaby)</td>\n",
       "      <td>0PvFJmanyNQMseIFrU708S</td>\n",
       "      <td>95</td>\n",
       "    </tr>\n",
       "    <tr>\n",
       "      <th>4</th>\n",
       "      <td>Internet Money</td>\n",
       "      <td>Lemonade</td>\n",
       "      <td>02kDW379Yfd5PzW5A6vuGt</td>\n",
       "      <td>94</td>\n",
       "    </tr>\n",
       "  </tbody>\n",
       "</table>\n",
       "</div>"
      ],
      "text/plain": [
       "      artist_name                               track_name  \\\n",
       "0         Cardi B          WAP (feat. Megan Thee Stallion)   \n",
       "1        24kGoldn                   Mood (feat. iann dior)   \n",
       "2           Drake     Laugh Now Cry Later (feat. Lil Durk)   \n",
       "3       Pop Smoke  For The Night (feat. Lil Baby & DaBaby)   \n",
       "4  Internet Money                                 Lemonade   \n",
       "\n",
       "                 track_id  popularity  \n",
       "0  4Oun2ylbjFKMPTiaSbbCih          98  \n",
       "1  3tjFYV6RSFtuktYl3ZtYcq         100  \n",
       "2  2SAqBLGA283SUiwJ3xOUVI          95  \n",
       "3  0PvFJmanyNQMseIFrU708S          95  \n",
       "4  02kDW379Yfd5PzW5A6vuGt          94  "
      ]
     },
     "execution_count": 18,
     "metadata": {},
     "output_type": "execute_result"
    }
   ],
   "source": [
    "df_tracks.head()"
   ]
  },
  {
   "cell_type": "code",
   "execution_count": null,
   "metadata": {},
   "outputs": [],
   "source": []
  },
  {
   "cell_type": "code",
   "execution_count": null,
   "metadata": {},
   "outputs": [],
   "source": []
  },
  {
   "cell_type": "code",
   "execution_count": null,
   "metadata": {},
   "outputs": [],
   "source": []
  },
  {
   "cell_type": "code",
   "execution_count": null,
   "metadata": {},
   "outputs": [],
   "source": []
  },
  {
   "cell_type": "code",
   "execution_count": 19,
   "metadata": {},
   "outputs": [
    {
     "name": "stdout",
     "output_type": "stream",
     "text": [
      "(1000, 4)\n"
     ]
    },
    {
     "data": {
      "text/html": [
       "<div>\n",
       "<style scoped>\n",
       "    .dataframe tbody tr th:only-of-type {\n",
       "        vertical-align: middle;\n",
       "    }\n",
       "\n",
       "    .dataframe tbody tr th {\n",
       "        vertical-align: top;\n",
       "    }\n",
       "\n",
       "    .dataframe thead th {\n",
       "        text-align: right;\n",
       "    }\n",
       "</style>\n",
       "<table border=\"1\" class=\"dataframe\">\n",
       "  <thead>\n",
       "    <tr style=\"text-align: right;\">\n",
       "      <th></th>\n",
       "      <th>artist_name</th>\n",
       "      <th>track_name</th>\n",
       "      <th>track_id</th>\n",
       "      <th>popularity</th>\n",
       "    </tr>\n",
       "  </thead>\n",
       "  <tbody>\n",
       "    <tr>\n",
       "      <th>0</th>\n",
       "      <td>Cardi B</td>\n",
       "      <td>WAP (feat. Megan Thee Stallion)</td>\n",
       "      <td>4Oun2ylbjFKMPTiaSbbCih</td>\n",
       "      <td>98</td>\n",
       "    </tr>\n",
       "    <tr>\n",
       "      <th>1</th>\n",
       "      <td>24kGoldn</td>\n",
       "      <td>Mood (feat. iann dior)</td>\n",
       "      <td>3tjFYV6RSFtuktYl3ZtYcq</td>\n",
       "      <td>100</td>\n",
       "    </tr>\n",
       "    <tr>\n",
       "      <th>2</th>\n",
       "      <td>Drake</td>\n",
       "      <td>Laugh Now Cry Later (feat. Lil Durk)</td>\n",
       "      <td>2SAqBLGA283SUiwJ3xOUVI</td>\n",
       "      <td>95</td>\n",
       "    </tr>\n",
       "    <tr>\n",
       "      <th>3</th>\n",
       "      <td>Pop Smoke</td>\n",
       "      <td>For The Night (feat. Lil Baby &amp; DaBaby)</td>\n",
       "      <td>0PvFJmanyNQMseIFrU708S</td>\n",
       "      <td>95</td>\n",
       "    </tr>\n",
       "    <tr>\n",
       "      <th>4</th>\n",
       "      <td>Internet Money</td>\n",
       "      <td>Lemonade</td>\n",
       "      <td>02kDW379Yfd5PzW5A6vuGt</td>\n",
       "      <td>94</td>\n",
       "    </tr>\n",
       "  </tbody>\n",
       "</table>\n",
       "</div>"
      ],
      "text/plain": [
       "      artist_name                               track_name  \\\n",
       "0         Cardi B          WAP (feat. Megan Thee Stallion)   \n",
       "1        24kGoldn                   Mood (feat. iann dior)   \n",
       "2           Drake     Laugh Now Cry Later (feat. Lil Durk)   \n",
       "3       Pop Smoke  For The Night (feat. Lil Baby & DaBaby)   \n",
       "4  Internet Money                                 Lemonade   \n",
       "\n",
       "                 track_id  popularity  \n",
       "0  4Oun2ylbjFKMPTiaSbbCih          98  \n",
       "1  3tjFYV6RSFtuktYl3ZtYcq         100  \n",
       "2  2SAqBLGA283SUiwJ3xOUVI          95  \n",
       "3  0PvFJmanyNQMseIFrU708S          95  \n",
       "4  02kDW379Yfd5PzW5A6vuGt          94  "
      ]
     },
     "execution_count": 19,
     "metadata": {},
     "output_type": "execute_result"
    }
   ],
   "source": [
    "import pandas as pd\n",
    "track_dataframe = pd.DataFrame({'artist_name' : artist_name, 'track_name' : track_name, 'track_id' : track_id, 'popularity' : popularity})\n",
    "print(track_dataframe.shape)\n",
    "track_dataframe.head()"
   ]
  },
  {
   "cell_type": "code",
   "execution_count": 20,
   "metadata": {},
   "outputs": [],
   "source": [
    "df = track_dataframe"
   ]
  },
  {
   "cell_type": "code",
   "execution_count": 21,
   "metadata": {},
   "outputs": [
    {
     "data": {
      "text/html": [
       "<div>\n",
       "<style scoped>\n",
       "    .dataframe tbody tr th:only-of-type {\n",
       "        vertical-align: middle;\n",
       "    }\n",
       "\n",
       "    .dataframe tbody tr th {\n",
       "        vertical-align: top;\n",
       "    }\n",
       "\n",
       "    .dataframe thead th {\n",
       "        text-align: right;\n",
       "    }\n",
       "</style>\n",
       "<table border=\"1\" class=\"dataframe\">\n",
       "  <thead>\n",
       "    <tr style=\"text-align: right;\">\n",
       "      <th></th>\n",
       "      <th>artist_name</th>\n",
       "      <th>track_name</th>\n",
       "      <th>track_id</th>\n",
       "      <th>popularity</th>\n",
       "    </tr>\n",
       "  </thead>\n",
       "  <tbody>\n",
       "    <tr>\n",
       "      <th>0</th>\n",
       "      <td>Cardi B</td>\n",
       "      <td>WAP (feat. Megan Thee Stallion)</td>\n",
       "      <td>4Oun2ylbjFKMPTiaSbbCih</td>\n",
       "      <td>98</td>\n",
       "    </tr>\n",
       "    <tr>\n",
       "      <th>1</th>\n",
       "      <td>24kGoldn</td>\n",
       "      <td>Mood (feat. iann dior)</td>\n",
       "      <td>3tjFYV6RSFtuktYl3ZtYcq</td>\n",
       "      <td>100</td>\n",
       "    </tr>\n",
       "    <tr>\n",
       "      <th>2</th>\n",
       "      <td>Drake</td>\n",
       "      <td>Laugh Now Cry Later (feat. Lil Durk)</td>\n",
       "      <td>2SAqBLGA283SUiwJ3xOUVI</td>\n",
       "      <td>95</td>\n",
       "    </tr>\n",
       "    <tr>\n",
       "      <th>3</th>\n",
       "      <td>Pop Smoke</td>\n",
       "      <td>For The Night (feat. Lil Baby &amp; DaBaby)</td>\n",
       "      <td>0PvFJmanyNQMseIFrU708S</td>\n",
       "      <td>95</td>\n",
       "    </tr>\n",
       "    <tr>\n",
       "      <th>4</th>\n",
       "      <td>Internet Money</td>\n",
       "      <td>Lemonade</td>\n",
       "      <td>02kDW379Yfd5PzW5A6vuGt</td>\n",
       "      <td>94</td>\n",
       "    </tr>\n",
       "  </tbody>\n",
       "</table>\n",
       "</div>"
      ],
      "text/plain": [
       "      artist_name                               track_name  \\\n",
       "0         Cardi B          WAP (feat. Megan Thee Stallion)   \n",
       "1        24kGoldn                   Mood (feat. iann dior)   \n",
       "2           Drake     Laugh Now Cry Later (feat. Lil Durk)   \n",
       "3       Pop Smoke  For The Night (feat. Lil Baby & DaBaby)   \n",
       "4  Internet Money                                 Lemonade   \n",
       "\n",
       "                 track_id  popularity  \n",
       "0  4Oun2ylbjFKMPTiaSbbCih          98  \n",
       "1  3tjFYV6RSFtuktYl3ZtYcq         100  \n",
       "2  2SAqBLGA283SUiwJ3xOUVI          95  \n",
       "3  0PvFJmanyNQMseIFrU708S          95  \n",
       "4  02kDW379Yfd5PzW5A6vuGt          94  "
      ]
     },
     "execution_count": 21,
     "metadata": {},
     "output_type": "execute_result"
    }
   ],
   "source": [
    "df.head()"
   ]
  },
  {
   "cell_type": "code",
   "execution_count": 22,
   "metadata": {},
   "outputs": [
    {
     "data": {
      "text/plain": [
       "<matplotlib.axes._subplots.AxesSubplot at 0x11665e3c8>"
      ]
     },
     "execution_count": 22,
     "metadata": {},
     "output_type": "execute_result"
    },
    {
     "data": {
      "image/png": "[encoded data removed]",
      "text/plain": [
       "<Figure size 432x288 with 1 Axes>"
      ]
     },
     "metadata": {
      "needs_background": "light"
     },
     "output_type": "display_data"
    }
   ],
   "source": [
    "df['popularity'].hist()"
   ]
  },
  {
   "cell_type": "code",
   "execution_count": null,
   "metadata": {},
   "outputs": [],
   "source": []
  }
 ],
 "metadata": {
  "kernelspec": {
   "display_name": "Python 3",
   "language": "python",
   "name": "python3"
  },
  "language_info": {
   "codemirror_mode": {
    "name": "ipython",
    "version": 3
   },
   "file_extension": ".py",
   "mimetype": "text/x-python",
   "name": "python",
   "nbconvert_exporter": "python",
   "pygments_lexer": "ipython3",
   "version": "3.7.3"
  }
 },
 "nbformat": 4,
 "nbformat_minor": 4
}
